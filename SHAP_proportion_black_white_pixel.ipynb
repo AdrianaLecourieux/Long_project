{
  "nbformat": 4,
  "nbformat_minor": 0,
  "metadata": {
    "colab": {
      "provenance": [],
      "authorship_tag": "ABX9TyPOSQZ+XVZ0dDjQY9jfXS0d",
      "include_colab_link": true
    },
    "kernelspec": {
      "name": "python3",
      "display_name": "Python 3"
    },
    "language_info": {
      "name": "python"
    }
  },
  "cells": [
    {
      "cell_type": "markdown",
      "metadata": {
        "id": "view-in-github",
        "colab_type": "text"
      },
      "source": [
        "<a href=\"https://colab.research.google.com/github/AdrianaLecourieux/Long_project/blob/main/SHAP_proportion_black_white_pixel.ipynb\" target=\"_parent\"><img src=\"https://colab.research.google.com/assets/colab-badge.svg\" alt=\"Open In Colab\"/></a>"
      ]
    },
    {
      "cell_type": "markdown",
      "source": [
        "# 1. Import data"
      ],
      "metadata": {
        "id": "HyAv7EEq1JaO"
      }
    },
    {
      "cell_type": "code",
      "source": [
        "!pip  install shap"
      ],
      "metadata": {
        "id": "GrY55OVzi89J",
        "colab": {
          "base_uri": "https://localhost:8080/"
        },
        "outputId": "bce64fa8-f733-4ff1-9d74-7a031fedae1a"
      },
      "execution_count": null,
      "outputs": [
        {
          "output_type": "stream",
          "name": "stdout",
          "text": [
            "Looking in indexes: https://pypi.org/simple, https://us-python.pkg.dev/colab-wheels/public/simple/\n",
            "Collecting shap\n",
            "  Downloading shap-0.41.0-cp38-cp38-manylinux_2_12_x86_64.manylinux2010_x86_64.whl (575 kB)\n",
            "\u001b[2K     \u001b[90m━━━━━━━━━━━━━━━━━━━━━━━━━━━━━━━━━━━━━━\u001b[0m \u001b[32m575.9/575.9 KB\u001b[0m \u001b[31m13.0 MB/s\u001b[0m eta \u001b[36m0:00:00\u001b[0m\n",
            "\u001b[?25hRequirement already satisfied: pandas in /usr/local/lib/python3.8/dist-packages (from shap) (1.3.5)\n",
            "Requirement already satisfied: scikit-learn in /usr/local/lib/python3.8/dist-packages (from shap) (1.0.2)\n",
            "Requirement already satisfied: scipy in /usr/local/lib/python3.8/dist-packages (from shap) (1.7.3)\n",
            "Collecting slicer==0.0.7\n",
            "  Downloading slicer-0.0.7-py3-none-any.whl (14 kB)\n",
            "Requirement already satisfied: tqdm>4.25.0 in /usr/local/lib/python3.8/dist-packages (from shap) (4.64.1)\n",
            "Requirement already satisfied: packaging>20.9 in /usr/local/lib/python3.8/dist-packages (from shap) (21.3)\n",
            "Requirement already satisfied: numba in /usr/local/lib/python3.8/dist-packages (from shap) (0.56.4)\n",
            "Requirement already satisfied: cloudpickle in /usr/local/lib/python3.8/dist-packages (from shap) (1.5.0)\n",
            "Requirement already satisfied: numpy in /usr/local/lib/python3.8/dist-packages (from shap) (1.21.6)\n",
            "Requirement already satisfied: pyparsing!=3.0.5,>=2.0.2 in /usr/local/lib/python3.8/dist-packages (from packaging>20.9->shap) (3.0.9)\n",
            "Requirement already satisfied: setuptools in /usr/local/lib/python3.8/dist-packages (from numba->shap) (57.4.0)\n",
            "Requirement already satisfied: llvmlite<0.40,>=0.39.0dev0 in /usr/local/lib/python3.8/dist-packages (from numba->shap) (0.39.1)\n",
            "Requirement already satisfied: importlib-metadata in /usr/local/lib/python3.8/dist-packages (from numba->shap) (5.2.0)\n",
            "Requirement already satisfied: pytz>=2017.3 in /usr/local/lib/python3.8/dist-packages (from pandas->shap) (2022.7)\n",
            "Requirement already satisfied: python-dateutil>=2.7.3 in /usr/local/lib/python3.8/dist-packages (from pandas->shap) (2.8.2)\n",
            "Requirement already satisfied: threadpoolctl>=2.0.0 in /usr/local/lib/python3.8/dist-packages (from scikit-learn->shap) (3.1.0)\n",
            "Requirement already satisfied: joblib>=0.11 in /usr/local/lib/python3.8/dist-packages (from scikit-learn->shap) (1.2.0)\n",
            "Requirement already satisfied: six>=1.5 in /usr/local/lib/python3.8/dist-packages (from python-dateutil>=2.7.3->pandas->shap) (1.15.0)\n",
            "Requirement already satisfied: zipp>=0.5 in /usr/local/lib/python3.8/dist-packages (from importlib-metadata->numba->shap) (3.11.0)\n",
            "Installing collected packages: slicer, shap\n",
            "Successfully installed shap-0.41.0 slicer-0.0.7\n"
          ]
        }
      ]
    },
    {
      "cell_type": "code",
      "source": [
        "import pandas as pd       \n",
        "import numpy as np\n",
        "import os\n",
        "import keras\n",
        "import tensorflow as tf\n",
        "tf.compat.v1.disable_v2_behavior() \n",
        "import cv2 # for read image\n",
        "\n",
        "# For data visualisation\n",
        "from matplotlib import pyplot as plt # data visualisation\n",
        "\n",
        "# For building models\n",
        "from tensorflow.keras.models import Sequential # quick and easy\n",
        "from tensorflow.keras import layers\n",
        "from tensorflow.keras.layers import Conv2D, MaxPooling2D, Dense, Flatten, Dropout\n",
        "\n",
        "# For evaluating model\n",
        "from tensorflow.keras.metrics import Precision, Recall, BinaryAccuracy\n",
        "from sklearn.metrics import classification_report\n",
        "\n",
        "# For confusion matrix\n",
        "from sklearn.metrics import confusion_matrix\n",
        "from sklearn.metrics import ConfusionMatrixDisplay\n",
        "\n",
        "# For saving model\n",
        "from tensorflow.keras.models import load_model\n",
        "\n",
        "# For model interpretation\n",
        "import shap\n"
      ],
      "metadata": {
        "id": "SOrx7bpycSez",
        "colab": {
          "base_uri": "https://localhost:8080/"
        },
        "outputId": "1309e18d-d2ac-471f-a195-1a0466aefc8b"
      },
      "execution_count": null,
      "outputs": [
        {
          "output_type": "stream",
          "name": "stderr",
          "text": [
            "WARNING:tensorflow:From /usr/local/lib/python3.8/dist-packages/tensorflow/python/compat/v2_compat.py:107: disable_resource_variables (from tensorflow.python.ops.variable_scope) is deprecated and will be removed in a future version.\n",
            "Instructions for updating:\n",
            "non-resource variables are not supported in the long term\n"
          ]
        }
      ]
    },
    {
      "cell_type": "code",
      "source": [
        "from google.colab import drive\n",
        "drive.mount('/content/drive')"
      ],
      "metadata": {
        "id": "C9k7nxibUgpo",
        "colab": {
          "base_uri": "https://localhost:8080/"
        },
        "outputId": "aed0ecfc-24b4-4ba3-a61d-89877b272f95"
      },
      "execution_count": null,
      "outputs": [
        {
          "output_type": "stream",
          "name": "stdout",
          "text": [
            "Mounted at /content/drive\n"
          ]
        }
      ]
    },
    {
      "cell_type": "code",
      "source": [
        "shape_model = load_model('../content/drive/MyDrive/long_project/saved_models/shape_model')"
      ],
      "metadata": {
        "id": "LymUcFla1YYP"
      },
      "execution_count": null,
      "outputs": []
    },
    {
      "cell_type": "markdown",
      "source": [
        "# 2. Perform SHAP"
      ],
      "metadata": {
        "id": "3kNnUBobjEZT"
      }
    },
    {
      "cell_type": "code",
      "source": [
        "spe_cell = '/content/drive/MyDrive/long_project/shape_data/specific_cells_copy_paste/specific_cells_1001_330_5.png'"
      ],
      "metadata": {
        "id": "Ec2oIQWMZImZ"
      },
      "execution_count": null,
      "outputs": []
    },
    {
      "cell_type": "code",
      "source": [
        "img = cv2.imread(spe_cell)\n",
        "img2 = np.expand_dims(img/255, 0)"
      ],
      "metadata": {
        "id": "sege41OvZ5lf"
      },
      "execution_count": null,
      "outputs": []
    },
    {
      "cell_type": "code",
      "source": [
        "img2"
      ],
      "metadata": {
        "id": "z8t3KuZRZerI"
      },
      "execution_count": null,
      "outputs": []
    },
    {
      "cell_type": "code",
      "source": [
        "# select a set of background examples to take an expectation over\n",
        "background =img2"
      ],
      "metadata": {
        "id": "_gvKmpuWimeK"
      },
      "execution_count": null,
      "outputs": []
    },
    {
      "cell_type": "code",
      "source": [
        "# explain predictions of the model on four images\n",
        "e = shap.DeepExplainer(shape_model, background)"
      ],
      "metadata": {
        "id": "34xW1EAjgGkL"
      },
      "execution_count": null,
      "outputs": []
    },
    {
      "cell_type": "code",
      "source": [
        "spe_test = '/content/drive/MyDrive/long_project/tumor_data/Tumor_Ag_specifique_PB2_crop/Tumor_Ag_specifique_PB2_0_409_170.png'"
      ],
      "metadata": {
        "id": "hKBcBdzYbl4w"
      },
      "execution_count": null,
      "outputs": []
    },
    {
      "cell_type": "code",
      "source": [
        "img_test = cv2.imread(spe_test)\n",
        "img2_test = np.expand_dims((img_test).astype(np.uint8), 0)"
      ],
      "metadata": {
        "id": "kGWOE5Eebu1G"
      },
      "execution_count": null,
      "outputs": []
    },
    {
      "cell_type": "code",
      "source": [
        "shap_values = e.shap_values(img2_test)"
      ],
      "metadata": {
        "id": "tLZZwDnMgMn-"
      },
      "execution_count": null,
      "outputs": []
    },
    {
      "cell_type": "code",
      "source": [
        "shap.image_plot(shap_values, -img2_test)"
      ],
      "metadata": {
        "id": "ZzMFmHDygRFl",
        "colab": {
          "base_uri": "https://localhost:8080/",
          "height": 266
        },
        "outputId": "06772101-03f2-4504-ecfc-152a06c1a59b"
      },
      "execution_count": null,
      "outputs": [
        {
          "output_type": "display_data",
          "data": {
            "text/plain": [
              "<Figure size 432x360 with 3 Axes>"
            ],
            "image/png": "[encoded data removed]"
          },
          "metadata": {
            "needs_background": "light"
          }
        }
      ]
    },
    {
      "cell_type": "code",
      "source": [
        "DIR = '/content/drive/MyDrive/long_project/shape_data/specific_cells_copy_paste'"
      ],
      "metadata": {
        "id": "cl6DVa92f-Mp"
      },
      "execution_count": null,
      "outputs": []
    },
    {
      "cell_type": "code",
      "source": [
        "X = []\n",
        "files = [f for f in os.listdir(DIR) if os.path.isfile(os.path.join(DIR, f))]\n",
        "for file in files:\n",
        "  path_to_image = os.path.join(DIR, file)\n",
        "  X.append(path_to_image)"
      ],
      "metadata": {
        "id": "WM5u8icyf6VD"
      },
      "execution_count": null,
      "outputs": []
    },
    {
      "cell_type": "code",
      "source": [
        "DIR2 = '/content/drive/MyDrive/long_project/shape_data/non_specific_cells_copy_paste'"
      ],
      "metadata": {
        "id": "i-HT6ZG-Ewor"
      },
      "execution_count": null,
      "outputs": []
    },
    {
      "cell_type": "code",
      "source": [
        "len(X)"
      ],
      "metadata": {
        "colab": {
          "base_uri": "https://localhost:8080/"
        },
        "id": "VqrXmKAjE4xj",
        "outputId": "74569146-0437-4bb6-d018-2eda0370de96"
      },
      "execution_count": null,
      "outputs": [
        {
          "output_type": "execute_result",
          "data": {
            "text/plain": [
              "1136"
            ]
          },
          "metadata": {},
          "execution_count": 242
        }
      ]
    },
    {
      "cell_type": "code",
      "source": [
        "files = [f for f in os.listdir(DIR2) if os.path.isfile(os.path.join(DIR2, f))]\n",
        "for file in files:\n",
        "  path_to_image = os.path.join(DIR2, file)\n",
        "  X.append(path_to_image)"
      ],
      "metadata": {
        "id": "Q4qhgSsGE1x0"
      },
      "execution_count": null,
      "outputs": []
    },
    {
      "cell_type": "code",
      "source": [
        "len(X)"
      ],
      "metadata": {
        "colab": {
          "base_uri": "https://localhost:8080/"
        },
        "id": "thMjg2z0E7si",
        "outputId": "a5cc62c1-2732-4dfe-e798-002856146245"
      },
      "execution_count": null,
      "outputs": [
        {
          "output_type": "execute_result",
          "data": {
            "text/plain": [
              "2571"
            ]
          },
          "metadata": {},
          "execution_count": 244
        }
      ]
    },
    {
      "cell_type": "code",
      "source": [
        "new_X = []\n",
        "for file in X:\n",
        "  img = cv2.imread(file)\n",
        "  img2 = np.expand_dims(img, 0)\n",
        "  new_X.append(img2)\n"
      ],
      "metadata": {
        "id": "zPhUKGaOgpkX"
      },
      "execution_count": null,
      "outputs": []
    },
    {
      "cell_type": "code",
      "source": [
        "new_background = new_X"
      ],
      "metadata": {
        "id": "JCld-enMiYc6"
      },
      "execution_count": null,
      "outputs": []
    },
    {
      "cell_type": "code",
      "source": [
        "e = shap.DeepExplainer(shape_model, new_background)"
      ],
      "metadata": {
        "colab": {
          "base_uri": "https://localhost:8080/"
        },
        "id": "WSY39CtQifmQ",
        "outputId": "890d359a-7d76-4d8e-cf32-7bfb0bfe0683"
      },
      "execution_count": null,
      "outputs": [
        {
          "output_type": "stream",
          "name": "stderr",
          "text": [
            "Your TensorFlow version is newer than 2.4.0 and so graph support has been removed in eager mode and some static graphs may not be supported. See PR #1483 for discussion.\n"
          ]
        }
      ]
    },
    {
      "cell_type": "code",
      "source": [
        "image_test = '/content/drive/MyDrive/long_project/tumor_data/Tumor_Ag_specifique_PB2_crop/Tumor_Ag_specifique_PB2_100_239_266.png'"
      ],
      "metadata": {
        "id": "40gdvKZXjBIb"
      },
      "execution_count": null,
      "outputs": []
    },
    {
      "cell_type": "code",
      "source": [
        "image_test"
      ],
      "metadata": {
        "colab": {
          "base_uri": "https://localhost:8080/",
          "height": 36
        },
        "id": "_bAUwIbG3Ck_",
        "outputId": "271c4735-2168-4188-fb55-0967608aafe0"
      },
      "execution_count": null,
      "outputs": [
        {
          "output_type": "execute_result",
          "data": {
            "text/plain": [
              "'/content/drive/MyDrive/long_project/tumor_data/Tumor_Ag_specifique_PB2_crop/Tumor_Ag_specifique_PB2_100_239_266.png'"
            ],
            "application/vnd.google.colaboratory.intrinsic+json": {
              "type": "string"
            }
          },
          "metadata": {},
          "execution_count": 229
        }
      ]
    },
    {
      "cell_type": "code",
      "source": [
        "img_test = cv2.imread(image_test)\n",
        "img2_test = np.expand_dims(img_test/255, 0)"
      ],
      "metadata": {
        "id": "Wcd95MJA27JX"
      },
      "execution_count": null,
      "outputs": []
    },
    {
      "cell_type": "code",
      "source": [
        "img2_test"
      ],
      "metadata": {
        "id": "Jbuv72CZ3T2O"
      },
      "execution_count": null,
      "outputs": []
    },
    {
      "cell_type": "code",
      "source": [
        "shap_values = e.shap_values(img2_test)"
      ],
      "metadata": {
        "id": "lUchrSZxixxo"
      },
      "execution_count": null,
      "outputs": []
    },
    {
      "cell_type": "code",
      "source": [
        "shap.image_plot(shap_values,img2_test)"
      ],
      "metadata": {
        "colab": {
          "base_uri": "https://localhost:8080/",
          "height": 266
        },
        "outputId": "52033f55-60fe-433f-d687-61726d70b617",
        "id": "sThVILpeixxo"
      },
      "execution_count": null,
      "outputs": [
        {
          "output_type": "display_data",
          "data": {
            "text/plain": [
              "<Figure size 432x360 with 3 Axes>"
            ],
            "image/png": "[encoded data removed]"
          },
          "metadata": {
            "needs_background": "light"
          }
        }
      ]
    },
    {
      "cell_type": "markdown",
      "source": [
        "# 3 Proportion black/white pixel"
      ],
      "metadata": {
        "id": "ZF_UOi_HrA4v"
      }
    },
    {
      "cell_type": "markdown",
      "source": [
        "Specific"
      ],
      "metadata": {
        "id": "KB82tCeGyiLh"
      }
    },
    {
      "cell_type": "code",
      "source": [
        "image_train = '/content/drive/MyDrive/long_project/shape_data/specific_cells_copy_paste/specific_cells_0_51_5.png'"
      ],
      "metadata": {
        "id": "IPK9w4a2rGNj"
      },
      "execution_count": null,
      "outputs": []
    },
    {
      "cell_type": "code",
      "source": [
        "img_train = cv2.imread(image_train)\n",
        "img2_train = np.expand_dims(img_train, 0)"
      ],
      "metadata": {
        "id": "IDK65LLQrWyM"
      },
      "execution_count": null,
      "outputs": []
    },
    {
      "cell_type": "code",
      "source": [
        "number_of_white_pix = np.sum(img2_train == 255)      \n",
        "\n",
        "number_of_black_pix = np.sum(img2_train == 0)         "
      ],
      "metadata": {
        "id": "ZgiC7YONrg2U"
      },
      "execution_count": null,
      "outputs": []
    },
    {
      "cell_type": "code",
      "source": [
        "print(number_of_white_pix, number_of_black_pix)"
      ],
      "metadata": {
        "colab": {
          "base_uri": "https://localhost:8080/"
        },
        "id": "MVdVctZzri9L",
        "outputId": "f4a259a1-b3f8-41f9-9be2-c817cc89c236"
      },
      "execution_count": null,
      "outputs": [
        {
          "output_type": "stream",
          "name": "stdout",
          "text": [
            "1236 28764\n"
          ]
        }
      ]
    },
    {
      "cell_type": "markdown",
      "source": [],
      "metadata": {
        "id": "RpfT7-SHvgnr"
      }
    },
    {
      "cell_type": "code",
      "source": [
        "number_of_black_pix/number_of_white_pix"
      ],
      "metadata": {
        "colab": {
          "base_uri": "https://localhost:8080/"
        },
        "id": "dZXV27K7uwoZ",
        "outputId": "0915cf6f-7fa0-48c9-ef7b-6354419b4725"
      },
      "execution_count": null,
      "outputs": [
        {
          "output_type": "execute_result",
          "data": {
            "text/plain": [
              "23.271844660194176"
            ]
          },
          "metadata": {},
          "execution_count": 9
        }
      ]
    },
    {
      "cell_type": "markdown",
      "source": [
        "Loop"
      ],
      "metadata": {
        "id": "KrdjOWduvf8G"
      }
    },
    {
      "cell_type": "code",
      "source": [
        "dir = '/content/drive/MyDrive/long_project/shape_data/specific_cells_copy_paste'"
      ],
      "metadata": {
        "id": "aArQkLdJwwAs"
      },
      "execution_count": null,
      "outputs": []
    },
    {
      "cell_type": "code",
      "source": [
        "X = []\n",
        "files = [f for f in os.listdir(dir) if os.path.isfile(os.path.join(dir, f))]\n",
        "for file in files:\n",
        "  path_to_image = os.path.join(dir, file)\n",
        "  X.append(path_to_image)"
      ],
      "metadata": {
        "id": "r-VrG2P5xpzq"
      },
      "execution_count": null,
      "outputs": []
    },
    {
      "cell_type": "code",
      "source": [
        "keep_value = []\n",
        "for file in X:\n",
        "  img = cv2.imread(file)\n",
        "  img2 = np.expand_dims(img, 0)\n",
        "  number_of_white_pix_test = np.sum(img2 == 255)    \n",
        "  number_of_black_pix_test = np.sum(img2 == 0)\n",
        "  keep_value.append(number_of_black_pix_test/number_of_white_pix_test)  \n",
        " "
      ],
      "metadata": {
        "id": "TMShOHqZvht7"
      },
      "execution_count": null,
      "outputs": []
    },
    {
      "cell_type": "code",
      "source": [
        "sum(keep_value)/len(keep_value)"
      ],
      "metadata": {
        "colab": {
          "base_uri": "https://localhost:8080/"
        },
        "id": "CQhM1dyJyQZT",
        "outputId": "ac5e7cc7-8b9b-436c-e2e0-f27bc3d11965"
      },
      "execution_count": null,
      "outputs": [
        {
          "output_type": "execute_result",
          "data": {
            "text/plain": [
              "34.3166102838212"
            ]
          },
          "metadata": {},
          "execution_count": 13
        }
      ]
    },
    {
      "cell_type": "markdown",
      "source": [
        "Non-specific"
      ],
      "metadata": {
        "id": "-qSyIWHEqrA8"
      }
    },
    {
      "cell_type": "code",
      "source": [
        "dir = '/content/drive/MyDrive/long_project/shape_data/non_specific_cells_copy_paste'"
      ],
      "metadata": {
        "id": "EEASWHn_qvTo"
      },
      "execution_count": null,
      "outputs": []
    },
    {
      "cell_type": "code",
      "source": [
        "X = []\n",
        "files = [f for f in os.listdir(dir) if os.path.isfile(os.path.join(dir, f))]\n",
        "for file in files:\n",
        "  path_to_image = os.path.join(dir, file)\n",
        "  X.append(path_to_image)"
      ],
      "metadata": {
        "id": "iEy9eo-iqvTp"
      },
      "execution_count": null,
      "outputs": []
    },
    {
      "cell_type": "code",
      "source": [
        "keep_value = []\n",
        "for file in X:\n",
        "  img = cv2.imread(file)\n",
        "  img2 = np.expand_dims(img, 0)\n",
        "  number_of_white_pix_test = np.sum(img2 == 255)    \n",
        "  number_of_black_pix_test = np.sum(img2 == 0)\n",
        "  keep_value.append(number_of_black_pix_test/number_of_white_pix_test)  \n",
        " "
      ],
      "metadata": {
        "id": "oZeIZYS-qvTq"
      },
      "execution_count": null,
      "outputs": []
    },
    {
      "cell_type": "code",
      "source": [
        "sum(keep_value)/len(keep_value)"
      ],
      "metadata": {
        "colab": {
          "base_uri": "https://localhost:8080/"
        },
        "outputId": "b78ed0e8-01e7-4fed-e03d-669038474d6c",
        "id": "713PZcfiqvTq"
      },
      "execution_count": null,
      "outputs": [
        {
          "output_type": "execute_result",
          "data": {
            "text/plain": [
              "34.40866705118158"
            ]
          },
          "metadata": {},
          "execution_count": 21
        }
      ]
    },
    {
      "cell_type": "markdown",
      "source": [
        "Tumors"
      ],
      "metadata": {
        "id": "glPDCn13ykHF"
      }
    },
    {
      "cell_type": "code",
      "source": [
        "image_test = '/content/drive/MyDrive/long_project/tumor_data/Tumor_Ag_specifique_PB2_crop/Tumor_Ag_specifique_PB2_0_409_170.png'"
      ],
      "metadata": {
        "id": "h5xY0UQcrIsq"
      },
      "execution_count": null,
      "outputs": []
    },
    {
      "cell_type": "code",
      "source": [
        "img_test = cv2.imread(image_test)\n",
        "img2_test = np.expand_dims(img_test, 0)  "
      ],
      "metadata": {
        "id": "A980mrCsq86r"
      },
      "execution_count": null,
      "outputs": []
    },
    {
      "cell_type": "code",
      "source": [
        "number_of_white_pix_test = np.sum(img2_test == 255)      \n",
        "\n",
        "number_of_black_pix_test = np.sum(img2_test == 0)  "
      ],
      "metadata": {
        "id": "tnpmD3PYq-0f"
      },
      "execution_count": null,
      "outputs": []
    },
    {
      "cell_type": "code",
      "source": [
        "print(number_of_white_pix_test, number_of_black_pix_test)"
      ],
      "metadata": {
        "colab": {
          "base_uri": "https://localhost:8080/"
        },
        "id": "q3C1hAFRr4N2",
        "outputId": "3205e141-cbcd-49dc-912e-d20f421b7dd3"
      },
      "execution_count": null,
      "outputs": [
        {
          "output_type": "stream",
          "name": "stdout",
          "text": [
            "1128 28872\n"
          ]
        }
      ]
    },
    {
      "cell_type": "code",
      "source": [
        "number_of_black_pix_test/number_of_white_pix_test"
      ],
      "metadata": {
        "colab": {
          "base_uri": "https://localhost:8080/"
        },
        "id": "RI67iR8Eu1D6",
        "outputId": "2062a33e-0133-4457-8584-62f94640c4ae"
      },
      "execution_count": null,
      "outputs": [
        {
          "output_type": "execute_result",
          "data": {
            "text/plain": [
              "31.78688524590164"
            ]
          },
          "metadata": {},
          "execution_count": 172
        }
      ]
    },
    {
      "cell_type": "markdown",
      "source": [
        "Specific"
      ],
      "metadata": {
        "id": "nm2Tfq6yym0w"
      }
    },
    {
      "cell_type": "code",
      "source": [
        "dir = '/content/drive/MyDrive/long_project/tumor_data/Tumor_Ag_specifique_PB2_crop/'"
      ],
      "metadata": {
        "id": "OcOzmpdayuLz"
      },
      "execution_count": null,
      "outputs": []
    },
    {
      "cell_type": "code",
      "source": [
        "X = []\n",
        "files = [f for f in os.listdir(dir) if os.path.isfile(os.path.join(dir, f))]\n",
        "for file in files:\n",
        "  path_to_image = os.path.join(dir, file)\n",
        "  X.append(path_to_image)"
      ],
      "metadata": {
        "id": "rv_5jv7fyuL0"
      },
      "execution_count": null,
      "outputs": []
    },
    {
      "cell_type": "code",
      "source": [
        "keep_value = []\n",
        "for file in X:\n",
        "  img = cv2.imread(file)\n",
        "  img2 = np.expand_dims(img, 0)\n",
        "  number_of_white_pix_test = np.sum(img2 == 255)    \n",
        "  number_of_black_pix_test = np.sum(img2 == 0)\n",
        "  keep_value.append(number_of_black_pix_test/number_of_white_pix_test)  \n",
        " "
      ],
      "metadata": {
        "id": "lcfO4n7eyuL0"
      },
      "execution_count": null,
      "outputs": []
    },
    {
      "cell_type": "code",
      "source": [
        "sum(keep_value)/len(keep_value)"
      ],
      "metadata": {
        "colab": {
          "base_uri": "https://localhost:8080/"
        },
        "outputId": "4efc89fb-ffcd-40d6-e888-68bbc6b096ab",
        "id": "4Nd0EYFLyuL0"
      },
      "execution_count": null,
      "outputs": [
        {
          "output_type": "execute_result",
          "data": {
            "text/plain": [
              "34.93871480927672"
            ]
          },
          "metadata": {},
          "execution_count": 25
        }
      ]
    },
    {
      "cell_type": "markdown",
      "source": [
        "Non-specific"
      ],
      "metadata": {
        "id": "5mvjOZ6Oq9mH"
      }
    },
    {
      "cell_type": "code",
      "source": [
        "dir = '/content/drive/MyDrive/long_project/tumor_data/Tumor_non_specifique_PB2_crop'"
      ],
      "metadata": {
        "id": "iAln9q37q91s"
      },
      "execution_count": null,
      "outputs": []
    },
    {
      "cell_type": "code",
      "source": [
        "X = []\n",
        "files = [f for f in os.listdir(dir) if os.path.isfile(os.path.join(dir, f))]\n",
        "for file in files:\n",
        "  path_to_image = os.path.join(dir, file)\n",
        "  X.append(path_to_image)"
      ],
      "metadata": {
        "id": "dxJs3PfOq91s"
      },
      "execution_count": null,
      "outputs": []
    },
    {
      "cell_type": "code",
      "source": [
        "keep_value = []\n",
        "for file in X:\n",
        "  img = cv2.imread(file)\n",
        "  img2 = np.expand_dims(img, 0)\n",
        "  number_of_white_pix_test = np.sum(img2 == 255)    \n",
        "  number_of_black_pix_test = np.sum(img2 == 0)\n",
        "  keep_value.append(number_of_black_pix_test/number_of_white_pix_test)  \n",
        " "
      ],
      "metadata": {
        "id": "vBJ5jX1Gq91s"
      },
      "execution_count": null,
      "outputs": []
    },
    {
      "cell_type": "code",
      "source": [
        "sum(keep_value)/len(keep_value)"
      ],
      "metadata": {
        "colab": {
          "base_uri": "https://localhost:8080/"
        },
        "id": "in2LmjAfq91s",
        "outputId": "36f878cd-7f86-4413-95e5-0a47c35af3eb"
      },
      "execution_count": null,
      "outputs": [
        {
          "output_type": "execute_result",
          "data": {
            "text/plain": [
              "27.98778414878786"
            ]
          },
          "metadata": {},
          "execution_count": 29
        }
      ]
    }
  ]
}