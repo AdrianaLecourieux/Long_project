{
  "nbformat": 4,
  "nbformat_minor": 0,
  "metadata": {
    "colab": {
      "provenance": [],
      "collapsed_sections": [
        "Hz8Bby1xUpFd",
        "TEffxXjweVFN",
        "psJKnBPHsorG",
        "kNw5BnEcsqFt",
        "HbyMhQJjsvkQ",
        "GAt1aK_5vDq8",
        "fT5bYJRkaTt2",
        "fAB965pFbyir",
        "f6yvZ5CfnV0U",
        "r3H88gqF0rNX",
        "uINMF_URFXhu",
        "m5ktpUiWq5Xc",
        "QZhmEOQyssEW",
        "LQvp1m_M6BVU",
        "jI4_mRw2hwfc",
        "BaF6jGJ9uEzG",
        "h5NEbvumUnRS",
        "88VwW7AoZbJS",
        "jz4DtycY4EWt",
        "UVB1BSiZKyfU",
        "M8ylcAc0Ko7j",
        "3zTGcxYSpY4D",
        "gOzQZrjjpmoC",
        "_SDA0mqCsLBO",
        "vX2xFXqXJ8tc",
        "flGgKVei0alp",
        "3bJSUAtZ3dC3",
        "3r2Gv4ku7RRx",
        "t_UwWFiPGOlM",
        "Gq3QrkBDzJ3J",
        "8BE9Y8aKzaOD",
        "2dnxhRhIzwJw"
      ],
      "authorship_tag": "ABX9TyOHxO9PYKzZyoMSzwrmw3xw",
      "include_colab_link": true
    },
    "kernelspec": {
      "name": "python3",
      "display_name": "Python 3"
    },
    "language_info": {
      "name": "python"
    }
  },
  "cells": [
    {
      "cell_type": "markdown",
      "metadata": {
        "id": "view-in-github",
        "colab_type": "text"
      },
      "source": [
        "<a href=\"https://colab.research.google.com/github/AdrianaLecourieux/Long_project/blob/main/Long__project.ipynb\" target=\"_parent\"><img src=\"https://colab.research.google.com/assets/colab-badge.svg\" alt=\"Open In Colab\"/></a>"
      ]
    },
    {
      "cell_type": "markdown",
      "source": [
        "# ⏸ Long Project\n",
        "\n",
        "In this notebooks, you'll find : \n",
        "\n",
        "\n",
        "\n",
        "0.   Preliminary steps\n",
        "1.   Binary classification on shape data\n",
        "2.   Binary classification on time projected data (3 times)\n",
        "3.   Classification 3 classes\n",
        "4.   Tests on cells from bone marrow film (tumor)\n",
        "5.   Binary classification (0=low affinity, 1=medium+high afffinity)\n",
        "6.   Binary classification with cells edges\n",
        "\n",
        "\n",
        "\n"
      ],
      "metadata": {
        "id": "ZbSOn2kFZvmH"
      }
    },
    {
      "cell_type": "markdown",
      "source": [
        "# ⏬ 0. Preliminary steps "
      ],
      "metadata": {
        "id": "7VJPE0xSep3-"
      }
    },
    {
      "cell_type": "markdown",
      "source": [
        "## 0.1. Import modules and mount drive\n"
      ],
      "metadata": {
        "id": "Hz8Bby1xUpFd"
      }
    },
    {
      "cell_type": "markdown",
      "source": [
        "Import modules"
      ],
      "metadata": {
        "id": "a9pjQrDke83f"
      }
    },
    {
      "cell_type": "code",
      "source": [
        "import pandas as pd       \n",
        "import numpy as np\n",
        "import os\n",
        "import keras\n",
        "import tensorflow as tf\n",
        "import cv2 # to open images\n",
        "\n",
        "# For data visualization\n",
        "from matplotlib import pyplot as plt # data visualization\n",
        "\n",
        "# For building models\n",
        "from tensorflow.keras.models import Sequential\n",
        "from tensorflow.keras import layers\n",
        "from tensorflow.keras.layers import Conv2D, MaxPooling2D, Dense, Flatten, Dropout\n",
        "# Plot model\n",
        "from keras.utils.vis_utils import plot_model \n",
        "\n",
        "# For evaluating model\n",
        "from tensorflow.keras.metrics import Precision, Recall, BinaryAccuracy\n",
        "from sklearn.metrics import classification_report\n",
        "\n",
        "# For confusion matrix\n",
        "from sklearn.metrics import confusion_matrix\n",
        "from sklearn.metrics import ConfusionMatrixDisplay\n",
        "\n",
        "# For saving model\n",
        "from tensorflow.keras.models import load_model\n",
        "\n",
        "# For model interpretation\n",
        "#import shap\n"
      ],
      "metadata": {
        "id": "SOrx7bpycSez"
      },
      "execution_count": 1,
      "outputs": []
    },
    {
      "cell_type": "markdown",
      "source": [
        "Mount drive"
      ],
      "metadata": {
        "id": "Hy4EmEhNe-zZ"
      }
    },
    {
      "cell_type": "code",
      "source": [
        "from google.colab import drive\n",
        "drive.mount('/content/drive')"
      ],
      "metadata": {
        "id": "C9k7nxibUgpo",
        "colab": {
          "base_uri": "https://localhost:8080/"
        },
        "outputId": "faea3f5a-50c2-47fc-ea2a-f867d278e788"
      },
      "execution_count": 2,
      "outputs": [
        {
          "output_type": "stream",
          "name": "stdout",
          "text": [
            "Mounted at /content/drive\n"
          ]
        }
      ]
    },
    {
      "cell_type": "markdown",
      "source": [
        "## 0.2. Fonction definitions"
      ],
      "metadata": {
        "id": "FIJObX6XbrdX"
      }
    },
    {
      "cell_type": "markdown",
      "source": [
        "### 0.2.1 Preprocessing"
      ],
      "metadata": {
        "id": "u_HyU2jQpAjm"
      }
    },
    {
      "cell_type": "code",
      "source": [
        "def get_train_test_validation_split(path, validation_split, seed, img_height, img_width, batch_size):\n",
        "  '''\n",
        "  Split dataset into train (70%), test (20%) and validation (10%) sets.\n",
        "\n",
        "  Parameter\n",
        "  _________\n",
        "\n",
        "    path :\n",
        "      path to the data.\n",
        "    validation_split : int\n",
        "      repartition of the data\n",
        "    seed : int\n",
        "      set seed\n",
        "    img_height : int\n",
        "      height of the image\n",
        "    img_width : int\n",
        "      width of the image\n",
        "    batch_size : int\n",
        "      size of the batch\n",
        "\n",
        "  Return\n",
        "  ______\n",
        "\n",
        "    Train, test and validation sets.\n",
        "  '''\n",
        "  train_ds = tf.keras.utils.image_dataset_from_directory(\n",
        "  path,\n",
        "  validation_split=validation_split,\n",
        "  subset=\"training\",\n",
        "  seed=seed,\n",
        "  image_size=(img_height, img_width),\n",
        "  batch_size=batch_size)\n",
        "\n",
        "  val_ds = tf.keras.utils.image_dataset_from_directory(\n",
        "  path,\n",
        "  validation_split= validation_split,\n",
        "  subset=\"validation\",\n",
        "  seed=seed,\n",
        "  image_size=(img_height, img_width),\n",
        "  batch_size=batch_size)\n",
        "\n",
        "  val_batches = tf.data.experimental.cardinality(val_ds)\n",
        "  test_ds = val_ds.take((2*val_batches) // 3)\n",
        "  val_ds = val_ds.skip((2*val_batches) // 3)\n",
        "\n",
        "  return train_ds, test_ds, val_ds"
      ],
      "metadata": {
        "id": "-ybs8aEufiMX"
      },
      "execution_count": 3,
      "outputs": []
    },
    {
      "cell_type": "code",
      "source": [
        "def plot_train_images(train, class_names):\n",
        "  '''\n",
        "  Plot exemple of train dataset images.\n",
        "\n",
        "  Parameter\n",
        "  _________\n",
        "\n",
        "    train :\n",
        "      train set.\n",
        "    class_names : \n",
        "      Name of the classes\n",
        "\n",
        "  Return\n",
        "  ______\n",
        "\n",
        "    Plot of 9 images with legend.\n",
        "  '''\n",
        "  plt.figure(figsize=(10, 10))\n",
        "  for images, labels in train.take(1):\n",
        "    for i in range(9):\n",
        "      ax = plt.subplot(3, 3, i + 1)\n",
        "      plt.imshow(images[i].numpy().astype(\"uint8\"))\n",
        "      plt.title(class_names[labels[i]])\n",
        "      plt.axis(\"off\")"
      ],
      "metadata": {
        "id": "ilVDfSg2mnlE"
      },
      "execution_count": 4,
      "outputs": []
    },
    {
      "cell_type": "code",
      "source": [
        "def normalize_dataset(train):\n",
        "  normalized_ds = train.map(lambda x, y: (normalization_layer(x), y))\n",
        "  image_batch, labels_batch = next(iter(normalized_ds))\n",
        "  first_image = image_batch[0]\n",
        "  return normalized_ds, image_batch, labels_batch, first_image"
      ],
      "metadata": {
        "id": "qpzrvHr6iL-3"
      },
      "execution_count": 5,
      "outputs": []
    },
    {
      "cell_type": "code",
      "source": [
        "def cache(train, validation):\n",
        "  AUTOTUNE = tf.data.AUTOTUNE\n",
        "  train = train.cache().prefetch(buffer_size=AUTOTUNE)\n",
        "  validation = validation.cache().prefetch(buffer_size=AUTOTUNE)\n",
        "  return train, validation"
      ],
      "metadata": {
        "id": "3qjobXImkkqf"
      },
      "execution_count": 6,
      "outputs": []
    },
    {
      "cell_type": "markdown",
      "source": [
        "### 0.2.3 Evaluate model"
      ],
      "metadata": {
        "id": "abVKLg0FpGA0"
      }
    },
    {
      "cell_type": "code",
      "source": [
        "def accuracy_plot(fitting_history):\n",
        "  '''\n",
        "  Plots the accuracy against the number of epochs.\n",
        "\n",
        "  Parameter\n",
        "  _________\n",
        "\n",
        "    fitting_history :\n",
        "      The history of a model.fit.\n",
        "\n",
        "  Return\n",
        "  ______\n",
        "\n",
        "    The accuracy plot.\n",
        "  '''\n",
        "  plt.plot(fitting_history.history['accuracy'])\n",
        "  plt.plot(fitting_history.history['val_accuracy'])\n",
        "  plt.title('Model accuracy')\n",
        "  plt.ylabel('Accuracy')\n",
        "  plt.xlabel('Epoch')\n",
        "  plt.legend(['Train', 'Validation'], loc='upper left')\n",
        "  \n",
        "  return plt.show()"
      ],
      "metadata": {
        "id": "zwVB6-xXlh0d"
      },
      "execution_count": 7,
      "outputs": []
    },
    {
      "cell_type": "code",
      "source": [
        "def loss_plot(fitting_history):\n",
        "  '''\n",
        "  Plots the loss against the number of epochs.\n",
        "\n",
        "  Parameter\n",
        "  _________\n",
        "\n",
        "    fitting_history :\n",
        "      The history of a model.fit.\n",
        "\n",
        "  Return\n",
        "  ______\n",
        "\n",
        "    The loss plot.\n",
        "  '''\n",
        "  plt.plot(fitting_history.history['loss'])\n",
        "  plt.plot(fitting_history.history['val_loss'])\n",
        "  plt.title('Loss')\n",
        "  plt.ylabel('Loss')\n",
        "  plt.xlabel('Epoch')\n",
        "  plt.legend(['Train', 'Validation'], loc='upper left')\n",
        "  \n",
        "  return plt.show()"
      ],
      "metadata": {
        "id": "Z7uoqbvZli4K"
      },
      "execution_count": 8,
      "outputs": []
    },
    {
      "cell_type": "code",
      "source": [
        "def get_evaluation_model(test, model):\n",
        "  '''\n",
        "  Evaluate precision, recall and accuracy of the model with test set.\n",
        "\n",
        "  Parameter\n",
        "  _________\n",
        "\n",
        "    test :\n",
        "      test set\n",
        "    model :\n",
        "      keras model\n",
        "\n",
        "  Return\n",
        "  ______\n",
        "\n",
        "    Precision, recall and accuracy values.\n",
        "  '''\n",
        "  pre = Precision()\n",
        "  re = Recall()\n",
        "  acc = BinaryAccuracy()\n",
        "\n",
        "  for batch in test.as_numpy_iterator():\n",
        "    X, y = batch\n",
        "    yhat = model.predict(X)\n",
        "    pre.update_state(y, yhat)\n",
        "    re.update_state(y, yhat)\n",
        "    acc.update_state(y, yhat)\n",
        "\n",
        "  print(f'Precision: {pre.result().numpy()}, Recall: {re.result().numpy()}, Accuracy: {acc.result().numpy()}')"
      ],
      "metadata": {
        "id": "JcG51LTXrb1t"
      },
      "execution_count": 9,
      "outputs": []
    },
    {
      "cell_type": "markdown",
      "source": [
        "Binary classification"
      ],
      "metadata": {
        "id": "r8BhHagXeX-m"
      }
    },
    {
      "cell_type": "code",
      "source": [
        "def confusion_matrix(test,model):\n",
        "  '''\n",
        "  Plots the predicted predictions against true values.\n",
        "\n",
        "  Parameter\n",
        "  _________\n",
        "\n",
        "    test :\n",
        "      test set\n",
        "    model :\n",
        "      keras model\n",
        "\n",
        "  Return\n",
        "  ______\n",
        "\n",
        "    The confusion matrix.\n",
        "  '''\n",
        "  y_pred = []  # store predicted labels\n",
        "  y_true = []  # store true labels\n",
        "  # iterate over the dataset\n",
        "  for image_batch, label_batch in test:   # use dataset.unbatch() with repeat\n",
        "    # append true labels\n",
        "    y_true.append(label_batch)\n",
        "    # compute predictions\n",
        "    preds = model.predict(image_batch)\n",
        "    # append predicted labels\n",
        "    y_pred.append(preds.round())\n",
        "\n",
        "  # convert the true and predicted labels into tensors\n",
        "  correct_labels = tf.concat([item for item in y_true], axis = 0)\n",
        "  predicted_labels = tf.concat([item for item in y_pred], axis = 0)\n",
        "  \n",
        "  return ConfusionMatrixDisplay.from_predictions(predicted_labels, correct_labels)\n"
      ],
      "metadata": {
        "id": "HnTFeDLpsjqu"
      },
      "execution_count": 10,
      "outputs": []
    },
    {
      "cell_type": "code",
      "source": [
        "  def classif_report(test,model):\n",
        "    '''\n",
        "    .\n",
        "\n",
        "    Parameter\n",
        "    _________\n",
        "\n",
        "      test :\n",
        "        test set\n",
        "      model :\n",
        "        keras model\n",
        "\n",
        "    Return\n",
        "    ______\n",
        "\n",
        "      The classification report.\n",
        "    '''\n",
        "    y_pred = []  # store predicted labels\n",
        "    y_true = []  # store true labels\n",
        "    # iterate over the dataset\n",
        "    for image_batch, label_batch in test:   # use dataset.unbatch() with repeat\n",
        "      # append true labels\n",
        "      y_true.append(label_batch)\n",
        "      # compute predictions\n",
        "      preds = model.predict(image_batch)\n",
        "      # append predicted labels\n",
        "      y_pred.append(preds.round())\n",
        "\n",
        "    # convert the true and predicted labels into tensors\n",
        "    correct_labels = tf.concat([item for item in y_true], axis = 0)\n",
        "    predicted_labels = tf.concat([item for item in y_pred], axis = 0)\n",
        "    \n",
        "    print(classification_report(correct_labels, predicted_labels))\n"
      ],
      "metadata": {
        "id": "hwObuDquxH8j"
      },
      "execution_count": 11,
      "outputs": []
    },
    {
      "cell_type": "markdown",
      "source": [
        "Classification 3 classes"
      ],
      "metadata": {
        "id": "PXNfQS49eaii"
      }
    },
    {
      "cell_type": "code",
      "source": [
        "def confusion_matrix_3_classses(test, model):\n",
        "  y_pred = []  # store predicted labels\n",
        "  y_true = []  # store true labels\n",
        "\n",
        "  # iterate over the dataset\n",
        "  for image_batch, label_batch in test_3:   # use dataset.unbatch() with repeat\n",
        "    # append true labels\n",
        "    y_true.append(label_batch)\n",
        "    # compute predictions\n",
        "    preds = model_3classes.predict(image_batch)\n",
        "    # append predicted labels\n",
        "    y_pred.append(np.argmax(preds, axis = - 1))\n",
        "\n",
        "  # convert the true and predicted labels into tensors\n",
        "  correct_labels = tf.concat([item for item in y_true], axis = 0)\n",
        "  predicted_labels = tf.concat([item for item in y_pred], axis = 0)\n",
        "\n",
        "  return ConfusionMatrixDisplay.from_predictions(predicted_labels, correct_labels)"
      ],
      "metadata": {
        "id": "mEj_9q5AfXGN"
      },
      "execution_count": 12,
      "outputs": []
    },
    {
      "cell_type": "code",
      "source": [
        "  def classif_report_3_classes(test, model):\n",
        "    '''\n",
        "    .\n",
        "\n",
        "    Parameter\n",
        "    _________\n",
        "\n",
        "      test :\n",
        "        test set\n",
        "      model :\n",
        "        keras model\n",
        "\n",
        "    Return\n",
        "    ______\n",
        "\n",
        "      The classification report.\n",
        "    '''\n",
        "    y_pred = []  # store predicted labels\n",
        "    y_true = []  # store true labels\n",
        "    # iterate over the dataset\n",
        "    for image_batch, label_batch in test:   # use dataset.unbatch() with repeat\n",
        "      # append true labels\n",
        "      y_true.append(label_batch)\n",
        "      # compute predictions\n",
        "      preds = model.predict(image_batch)\n",
        "      # append predicted labels\n",
        "      y_pred.append(np.argmax(preds, axis = - 1))\n",
        "\n",
        "    # convert the true and predicted labels into tensors\n",
        "    correct_labels = tf.concat([item for item in y_true], axis = 0)\n",
        "    predicted_labels = tf.concat([item for item in y_pred], axis = 0)\n",
        "    \n",
        "    print(classification_report(correct_labels, predicted_labels))\n"
      ],
      "metadata": {
        "id": "prHLk2NbfzbQ"
      },
      "execution_count": 13,
      "outputs": []
    },
    {
      "cell_type": "markdown",
      "source": [
        "## 0.3. Variable definitions"
      ],
      "metadata": {
        "id": "TEffxXjweVFN"
      }
    },
    {
      "cell_type": "markdown",
      "source": [
        "### 0.3.1. Preprocessing"
      ],
      "metadata": {
        "id": "m98skZ7WfHhx"
      }
    },
    {
      "cell_type": "code",
      "source": [
        "batch_size = 32\n",
        "img_height = 100\n",
        "img_width = 100\n",
        "seed=123\n",
        "validation_split = 0.3\n"
      ],
      "metadata": {
        "id": "JmkVk1pWeUzT"
      },
      "execution_count": 14,
      "outputs": []
    },
    {
      "cell_type": "code",
      "source": [
        "normalization_layer = tf.keras.layers.Rescaling(1./255)\n"
      ],
      "metadata": {
        "id": "VPdtxwT_HidQ"
      },
      "execution_count": 15,
      "outputs": []
    },
    {
      "cell_type": "markdown",
      "source": [
        "### 0.3.2. Preprocessing"
      ],
      "metadata": {
        "id": "lIPUMS1nfMOc"
      }
    },
    {
      "cell_type": "markdown",
      "source": [
        "# ⏬ Part 1 : Binary classification on shape data "
      ],
      "metadata": {
        "id": "c6qviuecAlG2"
      }
    },
    {
      "cell_type": "markdown",
      "source": [
        "## 1.1. Preprocessing"
      ],
      "metadata": {
        "id": "YmX_6LxZGRFt"
      }
    },
    {
      "cell_type": "code",
      "source": [
        "data_dir_1 = \"/content/drive/MyDrive/long_project/shape_data\""
      ],
      "metadata": {
        "id": "enSg87AJGtuC"
      },
      "execution_count": null,
      "outputs": []
    },
    {
      "cell_type": "code",
      "source": [
        "train, test, validation = get_train_test_validation_split(data_dir_1, validation_split, seed, img_height, img_width, batch_size)"
      ],
      "metadata": {
        "colab": {
          "base_uri": "https://localhost:8080/"
        },
        "id": "WwHAcZ59kuCY",
        "outputId": "da01e090-3d72-4bc7-d0d7-c48cb93e8439"
      },
      "execution_count": null,
      "outputs": [
        {
          "output_type": "stream",
          "name": "stdout",
          "text": [
            "Found 2571 files belonging to 2 classes.\n",
            "Using 1800 files for training.\n",
            "Found 2571 files belonging to 2 classes.\n",
            "Using 771 files for validation.\n"
          ]
        }
      ]
    },
    {
      "cell_type": "code",
      "source": [
        "class_names = train.class_names\n",
        "print(class_names)"
      ],
      "metadata": {
        "colab": {
          "base_uri": "https://localhost:8080/"
        },
        "id": "7jC597w0lKgH",
        "outputId": "0a977dd7-481d-432d-99df-9eace4787116"
      },
      "execution_count": null,
      "outputs": [
        {
          "output_type": "stream",
          "name": "stdout",
          "text": [
            "['non_specific_cells', 'specific_cells']\n"
          ]
        }
      ]
    },
    {
      "cell_type": "code",
      "source": [
        "plot_train_images(train, class_names)"
      ],
      "metadata": {
        "colab": {
          "base_uri": "https://localhost:8080/",
          "height": 591
        },
        "id": "Zyzhh12CoPML",
        "outputId": "d64daf25-6e7b-44d1-8afb-486991b386c8"
      },
      "execution_count": null,
      "outputs": [
        {
          "output_type": "display_data",
          "data": {
            "text/plain": [
              "<Figure size 720x720 with 9 Axes>"
            ],
            "image/png": "[encoded data removed]"
          },
          "metadata": {
            "needs_background": "light"
          }
        }
      ]
    },
    {
      "cell_type": "code",
      "source": [
        "normalized_ds, image_batch, labels_batch, first_image = normalize_dataset(train)\n",
        "print(np.min(first_image), np.max(first_image))"
      ],
      "metadata": {
        "colab": {
          "base_uri": "https://localhost:8080/"
        },
        "id": "LNZ4s5iUizbR",
        "outputId": "d495a606-1c9c-44e3-8286-d6f0e363a8fc"
      },
      "execution_count": null,
      "outputs": [
        {
          "output_type": "stream",
          "name": "stdout",
          "text": [
            "0.0 1.0\n"
          ]
        }
      ]
    },
    {
      "cell_type": "code",
      "source": [
        "train, validation = cache(train, validation)"
      ],
      "metadata": {
        "id": "Wnd__AnDlBww"
      },
      "execution_count": null,
      "outputs": []
    },
    {
      "cell_type": "markdown",
      "source": [
        "## 1.2 Model"
      ],
      "metadata": {
        "id": "EbN-2PMkrCT2"
      }
    },
    {
      "cell_type": "code",
      "source": [
        "num_classes = 2\n",
        "model = tf.keras.Sequential([\n",
        "  tf.keras.layers.Rescaling(1./255),\n",
        "  tf.keras.layers.Conv2D(16, 3, activation='relu'),\n",
        "  tf.keras.layers.MaxPooling2D(),\n",
        "  tf.keras.layers.Conv2D(32, 3, activation='relu'),\n",
        "  tf.keras.layers.MaxPooling2D(),\n",
        "  tf.keras.layers.Conv2D(16, 3, activation='relu'),\n",
        "  tf.keras.layers.Dropout(0.2),\n",
        "  tf.keras.layers.MaxPooling2D(),\n",
        "  tf.keras.layers.Flatten(),\n",
        "  tf.keras.layers.Dense(100, activation='relu'),\n",
        "  tf.keras.layers.Dense(1, activation='sigmoid')\n",
        "])"
      ],
      "metadata": {
        "id": "KQAFJ9IDIBsr"
      },
      "execution_count": null,
      "outputs": []
    },
    {
      "cell_type": "code",
      "source": [
        "model.compile('adam', loss=tf.losses.BinaryCrossentropy(), metrics=['accuracy'])"
      ],
      "metadata": {
        "id": "NA5ZqGy1H2GC"
      },
      "execution_count": null,
      "outputs": []
    },
    {
      "cell_type": "code",
      "source": [
        "history = model.fit(\n",
        "  train,\n",
        "  validation_data=validation,\n",
        "  epochs=15\n",
        ")"
      ],
      "metadata": {
        "id": "Ox6V4z2YIebg",
        "colab": {
          "base_uri": "https://localhost:8080/"
        },
        "outputId": "b4c838e9-01bd-4fd6-aaea-7233e8cbb4b5"
      },
      "execution_count": null,
      "outputs": [
        {
          "output_type": "stream",
          "name": "stdout",
          "text": [
            "Epoch 1/15\n",
            "57/57 [==============================] - 55s 955ms/step - loss: 0.6605 - accuracy: 0.6100 - val_loss: 0.6276 - val_accuracy: 0.6602\n",
            "Epoch 2/15\n",
            "57/57 [==============================] - 9s 158ms/step - loss: 0.6142 - accuracy: 0.6822 - val_loss: 0.5952 - val_accuracy: 0.6911\n",
            "Epoch 3/15\n",
            "57/57 [==============================] - 9s 156ms/step - loss: 0.5794 - accuracy: 0.7106 - val_loss: 0.5671 - val_accuracy: 0.7529\n",
            "Epoch 4/15\n",
            "57/57 [==============================] - 9s 162ms/step - loss: 0.5255 - accuracy: 0.7467 - val_loss: 0.5044 - val_accuracy: 0.7645\n",
            "Epoch 5/15\n",
            "57/57 [==============================] - 12s 209ms/step - loss: 0.4604 - accuracy: 0.7950 - val_loss: 0.4253 - val_accuracy: 0.8224\n",
            "Epoch 6/15\n",
            "57/57 [==============================] - 12s 209ms/step - loss: 0.3622 - accuracy: 0.8450 - val_loss: 0.3733 - val_accuracy: 0.8494\n",
            "Epoch 7/15\n",
            "57/57 [==============================] - 10s 171ms/step - loss: 0.3060 - accuracy: 0.8678 - val_loss: 0.3140 - val_accuracy: 0.8649\n",
            "Epoch 8/15\n",
            "57/57 [==============================] - 13s 222ms/step - loss: 0.2638 - accuracy: 0.8950 - val_loss: 0.2843 - val_accuracy: 0.8803\n",
            "Epoch 9/15\n",
            "57/57 [==============================] - 12s 205ms/step - loss: 0.2228 - accuracy: 0.9106 - val_loss: 0.2625 - val_accuracy: 0.8919\n",
            "Epoch 10/15\n",
            "57/57 [==============================] - 11s 199ms/step - loss: 0.1947 - accuracy: 0.9233 - val_loss: 0.2523 - val_accuracy: 0.8919\n",
            "Epoch 11/15\n",
            "57/57 [==============================] - 10s 181ms/step - loss: 0.1734 - accuracy: 0.9333 - val_loss: 0.2394 - val_accuracy: 0.8919\n",
            "Epoch 12/15\n",
            "57/57 [==============================] - 11s 193ms/step - loss: 0.1495 - accuracy: 0.9394 - val_loss: 0.2321 - val_accuracy: 0.8958\n",
            "Epoch 13/15\n",
            "57/57 [==============================] - 11s 202ms/step - loss: 0.1212 - accuracy: 0.9544 - val_loss: 0.2301 - val_accuracy: 0.8880\n",
            "Epoch 14/15\n",
            "57/57 [==============================] - 11s 189ms/step - loss: 0.1164 - accuracy: 0.9556 - val_loss: 0.2419 - val_accuracy: 0.8803\n",
            "Epoch 15/15\n",
            "57/57 [==============================] - 11s 188ms/step - loss: 0.1092 - accuracy: 0.9561 - val_loss: 0.2193 - val_accuracy: 0.8996\n"
          ]
        }
      ]
    },
    {
      "cell_type": "markdown",
      "source": [
        "## 1.3 Evaluate model"
      ],
      "metadata": {
        "id": "LVDDjENbrJ-C"
      }
    },
    {
      "cell_type": "markdown",
      "source": [
        "### 1.3.1 Plot performance"
      ],
      "metadata": {
        "id": "psJKnBPHsorG"
      }
    },
    {
      "cell_type": "code",
      "source": [
        "loss_plot(history)\n",
        "print(\"\")\n",
        "accuracy_plot(history)"
      ],
      "metadata": {
        "colab": {
          "base_uri": "https://localhost:8080/"
        },
        "id": "edja0prkI2Lx",
        "outputId": "cef26c50-1e0e-40c1-fae9-3333a861e350"
      },
      "execution_count": null,
      "outputs": [
        {
          "output_type": "display_data",
          "data": {
            "text/plain": [
              "<Figure size 432x288 with 1 Axes>"
            ],
            "image/png": "[encoded data removed]"
          },
          "metadata": {
            "needs_background": "light"
          }
        },
        {
          "output_type": "stream",
          "name": "stdout",
          "text": [
            "\n"
          ]
        },
        {
          "output_type": "display_data",
          "data": {
            "text/plain": [
              "<Figure size 432x288 with 1 Axes>"
            ],
            "image/png": "[encoded data removed]"
          },
          "metadata": {
            "needs_background": "light"
          }
        }
      ]
    },
    {
      "cell_type": "markdown",
      "source": [
        "### 1.3.2 Evaluate"
      ],
      "metadata": {
        "id": "kNw5BnEcsqFt"
      }
    },
    {
      "cell_type": "code",
      "source": [
        "get_evaluation_model(test, model)"
      ],
      "metadata": {
        "colab": {
          "base_uri": "https://localhost:8080/"
        },
        "id": "7kM8QoVxrxG-",
        "outputId": "3eb52343-bbb0-4c68-aa5f-f3a678150a26"
      },
      "execution_count": null,
      "outputs": [
        {
          "output_type": "stream",
          "name": "stdout",
          "text": [
            "1/1 [==============================] - 0s 107ms/step\n",
            "1/1 [==============================] - 0s 130ms/step\n",
            "1/1 [==============================] - 0s 131ms/step\n",
            "1/1 [==============================] - 0s 86ms/step\n",
            "1/1 [==============================] - 0s 103ms/step\n",
            "1/1 [==============================] - 0s 101ms/step\n",
            "1/1 [==============================] - 0s 80ms/step\n",
            "1/1 [==============================] - 0s 120ms/step\n",
            "1/1 [==============================] - 0s 87ms/step\n",
            "1/1 [==============================] - 0s 93ms/step\n",
            "1/1 [==============================] - 0s 86ms/step\n",
            "1/1 [==============================] - 0s 88ms/step\n",
            "1/1 [==============================] - 0s 89ms/step\n",
            "1/1 [==============================] - 0s 94ms/step\n",
            "1/1 [==============================] - 0s 105ms/step\n",
            "1/1 [==============================] - 0s 91ms/step\n",
            "Precision: 0.8399999737739563, Recall: 0.9210526347160339, Accuracy: 0.88671875\n"
          ]
        }
      ]
    },
    {
      "cell_type": "markdown",
      "source": [
        "### 1.3.3 Confusion matrix"
      ],
      "metadata": {
        "id": "HbyMhQJjsvkQ"
      }
    },
    {
      "cell_type": "code",
      "source": [
        "confusion_matrix(test, model)"
      ],
      "metadata": {
        "colab": {
          "base_uri": "https://localhost:8080/",
          "height": 574
        },
        "id": "fWYOggSQtYb5",
        "outputId": "d2da1247-2e1f-4d93-abf1-0366745f9979"
      },
      "execution_count": null,
      "outputs": [
        {
          "output_type": "stream",
          "name": "stdout",
          "text": [
            "1/1 [==============================] - 0s 85ms/step\n",
            "1/1 [==============================] - 0s 118ms/step\n",
            "1/1 [==============================] - 0s 102ms/step\n",
            "1/1 [==============================] - 0s 90ms/step\n",
            "1/1 [==============================] - 0s 133ms/step\n",
            "1/1 [==============================] - 0s 86ms/step\n",
            "1/1 [==============================] - 0s 90ms/step\n",
            "1/1 [==============================] - 0s 113ms/step\n",
            "1/1 [==============================] - 0s 94ms/step\n",
            "1/1 [==============================] - 0s 94ms/step\n",
            "1/1 [==============================] - 0s 96ms/step\n",
            "1/1 [==============================] - 0s 97ms/step\n",
            "1/1 [==============================] - 0s 92ms/step\n",
            "1/1 [==============================] - 0s 89ms/step\n",
            "1/1 [==============================] - 0s 81ms/step\n",
            "1/1 [==============================] - 0s 83ms/step\n"
          ]
        },
        {
          "output_type": "execute_result",
          "data": {
            "text/plain": [
              "<sklearn.metrics._plot.confusion_matrix.ConfusionMatrixDisplay at 0x7f270da18d60>"
            ]
          },
          "metadata": {},
          "execution_count": 50
        },
        {
          "output_type": "display_data",
          "data": {
            "text/plain": [
              "<Figure size 432x288 with 2 Axes>"
            ],
            "image/png": "[encoded data removed]"
          },
          "metadata": {
            "needs_background": "light"
          }
        }
      ]
    },
    {
      "cell_type": "code",
      "source": [
        "print(classification_report(correct_labels, predicted_labels))"
      ],
      "metadata": {
        "colab": {
          "base_uri": "https://localhost:8080/"
        },
        "outputId": "a51ac308-6753-40eb-8f5a-978392df6703",
        "id": "uiPXPFKE0rwB"
      },
      "execution_count": null,
      "outputs": [
        {
          "output_type": "stream",
          "name": "stdout",
          "text": [
            "              precision    recall  f1-score   support\n",
            "\n",
            "           0       0.94      0.88      0.91       284\n",
            "           1       0.86      0.93      0.89       228\n",
            "\n",
            "    accuracy                           0.90       512\n",
            "   macro avg       0.90      0.91      0.90       512\n",
            "weighted avg       0.91      0.90      0.90       512\n",
            "\n"
          ]
        }
      ]
    },
    {
      "cell_type": "markdown",
      "source": [
        "## 1.4 Save the model"
      ],
      "metadata": {
        "id": "GAt1aK_5vDq8"
      }
    },
    {
      "cell_type": "code",
      "source": [
        "model.save('../content/drive/MyDrive/long_project/saved_models/shape_model')"
      ],
      "metadata": {
        "id": "ooSzrUcyvFox",
        "outputId": "494f506c-af46-4275-e20f-48949b9aa17f",
        "colab": {
          "base_uri": "https://localhost:8080/"
        }
      },
      "execution_count": null,
      "outputs": [
        {
          "output_type": "stream",
          "name": "stderr",
          "text": [
            "WARNING:absl:Found untraced functions such as _jit_compiled_convolution_op, _jit_compiled_convolution_op, _jit_compiled_convolution_op while saving (showing 3 of 3). These functions will not be directly callable after loading.\n"
          ]
        }
      ]
    },
    {
      "cell_type": "code",
      "source": [
        "model3_classes = load_model(\"../content/drive/MyDrive/long_project/saved_models/3_classes_model\")"
      ],
      "metadata": {
        "id": "FMFk47vTo3Lf"
      },
      "execution_count": 33,
      "outputs": []
    },
    {
      "cell_type": "code",
      "source": [
        "print(f'{model3_classes.summary()}')"
      ],
      "metadata": {
        "colab": {
          "base_uri": "https://localhost:8080/"
        },
        "id": "PDEN004mpYga",
        "outputId": "f974a919-4d5e-48ae-d5a7-e636cc82e66b"
      },
      "execution_count": 34,
      "outputs": [
        {
          "output_type": "stream",
          "name": "stdout",
          "text": [
            "Model: \"sequential_1\"\n",
            "_________________________________________________________________\n",
            " Layer (type)                Output Shape              Param #   \n",
            "=================================================================\n",
            " conv2d_3 (Conv2D)           (None, 98, 98, 16)        448       \n",
            "                                                                 \n",
            " max_pooling2d_3 (MaxPooling  (None, 49, 49, 16)       0         \n",
            " 2D)                                                             \n",
            "                                                                 \n",
            " conv2d_4 (Conv2D)           (None, 47, 47, 32)        4640      \n",
            "                                                                 \n",
            " max_pooling2d_4 (MaxPooling  (None, 23, 23, 32)       0         \n",
            " 2D)                                                             \n",
            "                                                                 \n",
            " conv2d_5 (Conv2D)           (None, 21, 21, 16)        4624      \n",
            "                                                                 \n",
            " dropout_1 (Dropout)         (None, 21, 21, 16)        0         \n",
            "                                                                 \n",
            " max_pooling2d_5 (MaxPooling  (None, 10, 10, 16)       0         \n",
            " 2D)                                                             \n",
            "                                                                 \n",
            " flatten_1 (Flatten)         (None, 1600)              0         \n",
            "                                                                 \n",
            " dense_2 (Dense)             (None, 100)               160100    \n",
            "                                                                 \n",
            " dense_3 (Dense)             (None, 3)                 303       \n",
            "                                                                 \n",
            "=================================================================\n",
            "Total params: 170,115\n",
            "Trainable params: 170,115\n",
            "Non-trainable params: 0\n",
            "_________________________________________________________________\n",
            "None\n"
          ]
        }
      ]
    },
    {
      "cell_type": "markdown",
      "source": [
        "# ⏬ Part 2 : Binary classification on time projected data (3 times)"
      ],
      "metadata": {
        "id": "KygYwg4CZ5zx"
      }
    },
    {
      "cell_type": "markdown",
      "source": [
        "## 2.1 Preprocessing"
      ],
      "metadata": {
        "id": "fT5bYJRkaTt2"
      }
    },
    {
      "cell_type": "code",
      "source": [
        "data_dir_2 = \"../content/drive/MyDrive/long_project/Z_projection_data\""
      ],
      "metadata": {
        "id": "FC_nnlVGZ5Ph"
      },
      "execution_count": 16,
      "outputs": []
    },
    {
      "cell_type": "code",
      "source": [
        "train_2, test_2, validation_2 = get_train_test_validation_split(data_dir_2, validation_split, seed, img_height, img_width, batch_size)"
      ],
      "metadata": {
        "colab": {
          "base_uri": "https://localhost:8080/"
        },
        "outputId": "48dce63d-7d0f-45ed-a57a-6a7b23070457",
        "id": "DbB0ZY1lXEyr"
      },
      "execution_count": 17,
      "outputs": [
        {
          "output_type": "stream",
          "name": "stdout",
          "text": [
            "Found 3366 files belonging to 2 classes.\n",
            "Using 2357 files for training.\n",
            "Found 3366 files belonging to 2 classes.\n",
            "Using 1009 files for validation.\n"
          ]
        }
      ]
    },
    {
      "cell_type": "code",
      "source": [
        "class_names_2= train_2.class_names\n",
        "print(class_names_2)"
      ],
      "metadata": {
        "colab": {
          "base_uri": "https://localhost:8080/"
        },
        "id": "QbGMUlRNXM02",
        "outputId": "27da47b6-f3b5-4f7a-f955-00d679d3ce59"
      },
      "execution_count": 18,
      "outputs": [
        {
          "output_type": "stream",
          "name": "stdout",
          "text": [
            "['non_specific_cells_time_projected', 'specific_cells_time_projected']\n"
          ]
        }
      ]
    },
    {
      "cell_type": "code",
      "source": [
        "plot_train_images(train_2, class_names_2)"
      ],
      "metadata": {
        "colab": {
          "base_uri": "https://localhost:8080/",
          "height": 0
        },
        "id": "PhkwJFoTZBuS",
        "outputId": "ef815e23-5adb-45bd-c44a-249482da428e"
      },
      "execution_count": 19,
      "outputs": [
        {
          "output_type": "display_data",
          "data": {
            "text/plain": [
              "<Figure size 720x720 with 9 Axes>"
            ],
            "image/png": "[encoded data removed]"
          },
          "metadata": {
            "needs_background": "light"
          }
        }
      ]
    },
    {
      "cell_type": "code",
      "source": [
        "normalized_ds, image_batch, labels_batch, first_image = normalize_dataset(train_2)"
      ],
      "metadata": {
        "id": "lRt7nWaClsfa"
      },
      "execution_count": 20,
      "outputs": []
    },
    {
      "cell_type": "code",
      "source": [
        "train_2, validation_2 = cache(train_2, validation_2)"
      ],
      "metadata": {
        "id": "b8spOJ7Mlsfe"
      },
      "execution_count": 21,
      "outputs": []
    },
    {
      "cell_type": "markdown",
      "source": [
        "## 2.2. Build model"
      ],
      "metadata": {
        "id": "fAB965pFbyir"
      }
    },
    {
      "cell_type": "code",
      "source": [
        "logdir='logs' "
      ],
      "metadata": {
        "id": "3faiErlSdMV-"
      },
      "execution_count": 22,
      "outputs": []
    },
    {
      "cell_type": "code",
      "source": [
        "tensorboard_callback = tf.keras.callbacks.TensorBoard(log_dir=logdir) #log model training as training"
      ],
      "metadata": {
        "id": "k6L43sm-dBwe"
      },
      "execution_count": 23,
      "outputs": []
    },
    {
      "cell_type": "code",
      "source": [
        "model_time_projection_2_classes = Sequential()  \n",
        "\n",
        "model_time_projection_2_classes.add(Conv2D(16, (3,3), 1, activation='relu', input_shape=(100,100,3))) \n",
        "#16 : number of filters; 3,3: filter size; 1:stride; relu\n",
        "model_time_projection_2_classes.add(MaxPooling2D())\n",
        "model_time_projection_2_classes.add(Conv2D(32, (3,3), 1, activation='relu'))\n",
        "model_time_projection_2_classes.add(MaxPooling2D())\n",
        "model_time_projection_2_classes.add(Conv2D(16, (3,3), 1, activation='relu'))\n",
        "model_time_projection_2_classes.add(Dropout(0.2))\n",
        "model_time_projection_2_classes.add(MaxPooling2D())\n",
        "model_time_projection_2_classes.add(Flatten())\n",
        "model_time_projection_2_classes.add(Dense(100, activation='relu'))\n",
        "model_time_projection_2_classes.add(Dense(1, activation='sigmoid'))\n",
        "\n",
        "model_time_projection_2_classes.compile('adam', loss=tf.losses.BinaryCrossentropy(), metrics=['accuracy'])"
      ],
      "metadata": {
        "id": "mbF2do9Abk4L"
      },
      "execution_count": 24,
      "outputs": []
    },
    {
      "cell_type": "code",
      "source": [
        "hist_time_projection = model_time_projection_2_classes.fit(train_2, epochs=19, validation_data=validation_2, callbacks=[tensorboard_callback])"
      ],
      "metadata": {
        "id": "z1OpT4WSbww4",
        "colab": {
          "base_uri": "https://localhost:8080/"
        },
        "outputId": "f78f9245-e78d-4298-f29c-70dd1c629c50"
      },
      "execution_count": 25,
      "outputs": [
        {
          "output_type": "stream",
          "name": "stdout",
          "text": [
            "Epoch 1/19\n",
            "74/74 [==============================] - 188s 3s/step - loss: 3.4822 - accuracy: 0.6245 - val_loss: 0.6879 - val_accuracy: 0.6944\n",
            "Epoch 2/19\n",
            "74/74 [==============================] - 19s 259ms/step - loss: 0.5549 - accuracy: 0.7454 - val_loss: 0.5077 - val_accuracy: 0.7745\n",
            "Epoch 3/19\n",
            "74/74 [==============================] - 19s 258ms/step - loss: 0.4119 - accuracy: 0.8129 - val_loss: 0.4508 - val_accuracy: 0.8131\n",
            "Epoch 4/19\n",
            "74/74 [==============================] - 21s 284ms/step - loss: 0.3144 - accuracy: 0.8600 - val_loss: 0.4095 - val_accuracy: 0.8457\n",
            "Epoch 5/19\n",
            "74/74 [==============================] - 20s 268ms/step - loss: 0.2375 - accuracy: 0.8986 - val_loss: 0.5064 - val_accuracy: 0.7893\n",
            "Epoch 6/19\n",
            "74/74 [==============================] - 20s 267ms/step - loss: 0.1799 - accuracy: 0.9224 - val_loss: 0.2925 - val_accuracy: 0.8991\n",
            "Epoch 7/19\n",
            "74/74 [==============================] - 20s 271ms/step - loss: 0.1169 - accuracy: 0.9550 - val_loss: 0.2681 - val_accuracy: 0.9169\n",
            "Epoch 8/19\n",
            "74/74 [==============================] - 20s 267ms/step - loss: 0.1031 - accuracy: 0.9584 - val_loss: 0.2057 - val_accuracy: 0.9436\n",
            "Epoch 9/19\n",
            "74/74 [==============================] - 20s 266ms/step - loss: 0.0869 - accuracy: 0.9690 - val_loss: 0.2213 - val_accuracy: 0.9377\n",
            "Epoch 10/19\n",
            "74/74 [==============================] - 20s 267ms/step - loss: 0.0541 - accuracy: 0.9822 - val_loss: 0.3259 - val_accuracy: 0.9199\n",
            "Epoch 11/19\n",
            "74/74 [==============================] - 20s 266ms/step - loss: 0.0590 - accuracy: 0.9796 - val_loss: 0.2484 - val_accuracy: 0.9228\n",
            "Epoch 12/19\n",
            "74/74 [==============================] - 20s 266ms/step - loss: 0.0428 - accuracy: 0.9868 - val_loss: 0.2303 - val_accuracy: 0.9377\n",
            "Epoch 13/19\n",
            "74/74 [==============================] - 20s 268ms/step - loss: 0.0337 - accuracy: 0.9877 - val_loss: 0.2516 - val_accuracy: 0.9407\n",
            "Epoch 14/19\n",
            "74/74 [==============================] - 20s 268ms/step - loss: 0.0359 - accuracy: 0.9868 - val_loss: 0.2516 - val_accuracy: 0.9466\n",
            "Epoch 15/19\n",
            "74/74 [==============================] - 20s 269ms/step - loss: 0.0571 - accuracy: 0.9801 - val_loss: 0.1250 - val_accuracy: 0.9525\n",
            "Epoch 16/19\n",
            "74/74 [==============================] - 20s 268ms/step - loss: 0.0353 - accuracy: 0.9885 - val_loss: 0.2344 - val_accuracy: 0.9377\n",
            "Epoch 17/19\n",
            "74/74 [==============================] - 19s 260ms/step - loss: 0.0533 - accuracy: 0.9779 - val_loss: 0.1532 - val_accuracy: 0.9555\n",
            "Epoch 18/19\n",
            "74/74 [==============================] - 20s 267ms/step - loss: 0.0465 - accuracy: 0.9805 - val_loss: 0.1495 - val_accuracy: 0.9496\n",
            "Epoch 19/19\n",
            "74/74 [==============================] - 20s 268ms/step - loss: 0.0220 - accuracy: 0.9936 - val_loss: 0.0992 - val_accuracy: 0.9674\n"
          ]
        }
      ]
    },
    {
      "cell_type": "markdown",
      "source": [
        "## 2.3. Evaluate"
      ],
      "metadata": {
        "id": "Jn3Dcj6DtSXG"
      }
    },
    {
      "cell_type": "markdown",
      "source": [
        "### 2.3.1 Plot performance"
      ],
      "metadata": {
        "id": "f6yvZ5CfnV0U"
      }
    },
    {
      "cell_type": "code",
      "source": [
        "loss_plot(hist_time_projection)\n",
        "print(\"\")\n",
        "accuracy_plot(hist_time_projection)"
      ],
      "metadata": {
        "colab": {
          "base_uri": "https://localhost:8080/",
          "height": 0
        },
        "outputId": "c526c739-0333-4be2-9870-2342ed20fae8",
        "id": "xEyMyemonV0W"
      },
      "execution_count": 26,
      "outputs": [
        {
          "output_type": "display_data",
          "data": {
            "text/plain": [
              "<Figure size 432x288 with 1 Axes>"
            ],
            "image/png": "[encoded data removed]"
          },
          "metadata": {
            "needs_background": "light"
          }
        },
        {
          "output_type": "stream",
          "name": "stdout",
          "text": [
            "\n"
          ]
        },
        {
          "output_type": "display_data",
          "data": {
            "text/plain": [
              "<Figure size 432x288 with 1 Axes>"
            ],
            "image/png": "[encoded data removed]"
          },
          "metadata": {
            "needs_background": "light"
          }
        }
      ]
    },
    {
      "cell_type": "markdown",
      "source": [
        "### 2.3.2 Evaluate"
      ],
      "metadata": {
        "id": "HJ1EGSAfu-Lw"
      }
    },
    {
      "cell_type": "code",
      "source": [
        "get_evaluation_model(test_2, model_time_projection_2_classes)"
      ],
      "metadata": {
        "colab": {
          "base_uri": "https://localhost:8080/"
        },
        "outputId": "96f147f3-54a6-4379-98e3-25f6fe3420e1",
        "id": "dzCaW1dVu-Ly"
      },
      "execution_count": 27,
      "outputs": [
        {
          "output_type": "stream",
          "name": "stdout",
          "text": [
            "1/1 [==============================] - 0s 244ms/step\n",
            "1/1 [==============================] - 0s 87ms/step\n",
            "1/1 [==============================] - 0s 91ms/step\n",
            "1/1 [==============================] - 0s 115ms/step\n",
            "1/1 [==============================] - 0s 88ms/step\n",
            "1/1 [==============================] - 0s 87ms/step\n",
            "1/1 [==============================] - 0s 90ms/step\n",
            "1/1 [==============================] - 0s 104ms/step\n",
            "1/1 [==============================] - 0s 100ms/step\n",
            "1/1 [==============================] - 0s 91ms/step\n",
            "1/1 [==============================] - 0s 86ms/step\n",
            "1/1 [==============================] - 0s 90ms/step\n",
            "1/1 [==============================] - 0s 89ms/step\n",
            "1/1 [==============================] - 0s 100ms/step\n",
            "1/1 [==============================] - 0s 91ms/step\n",
            "1/1 [==============================] - 0s 98ms/step\n",
            "1/1 [==============================] - 0s 87ms/step\n",
            "1/1 [==============================] - 0s 85ms/step\n",
            "1/1 [==============================] - 0s 92ms/step\n",
            "1/1 [==============================] - 0s 110ms/step\n",
            "1/1 [==============================] - 0s 90ms/step\n",
            "Precision: 0.9714285731315613, Recall: 0.9622641801834106, Accuracy: 0.96875\n"
          ]
        }
      ]
    },
    {
      "cell_type": "markdown",
      "source": [
        "### 2.3.3 Confusion matrix"
      ],
      "metadata": {
        "id": "goUTKxz1u-L1"
      }
    },
    {
      "cell_type": "code",
      "source": [
        "confusion_matrix(test_2, model_time_projection_2_classes)"
      ],
      "metadata": {
        "colab": {
          "base_uri": "https://localhost:8080/",
          "height": 661
        },
        "outputId": "8474e497-3d0c-45ef-ebfd-bac3012e685c",
        "id": "n8zVQ5Wpu-L2"
      },
      "execution_count": null,
      "outputs": [
        {
          "output_type": "stream",
          "name": "stdout",
          "text": [
            "1/1 [==============================] - 0s 95ms/step\n",
            "1/1 [==============================] - 0s 100ms/step\n",
            "1/1 [==============================] - 0s 89ms/step\n",
            "1/1 [==============================] - 0s 90ms/step\n",
            "1/1 [==============================] - 0s 103ms/step\n",
            "1/1 [==============================] - 0s 93ms/step\n",
            "1/1 [==============================] - 0s 95ms/step\n",
            "1/1 [==============================] - 0s 103ms/step\n",
            "1/1 [==============================] - 0s 112ms/step\n",
            "1/1 [==============================] - 0s 100ms/step\n",
            "1/1 [==============================] - 0s 102ms/step\n",
            "1/1 [==============================] - 0s 91ms/step\n",
            "1/1 [==============================] - 0s 93ms/step\n",
            "1/1 [==============================] - 0s 106ms/step\n",
            "1/1 [==============================] - 0s 103ms/step\n",
            "1/1 [==============================] - 0s 88ms/step\n",
            "1/1 [==============================] - 0s 91ms/step\n",
            "1/1 [==============================] - 0s 108ms/step\n",
            "1/1 [==============================] - 0s 101ms/step\n",
            "1/1 [==============================] - 0s 107ms/step\n",
            "1/1 [==============================] - 0s 112ms/step\n"
          ]
        },
        {
          "output_type": "execute_result",
          "data": {
            "text/plain": [
              "<sklearn.metrics._plot.confusion_matrix.ConfusionMatrixDisplay at 0x7feb6e706f70>"
            ]
          },
          "metadata": {},
          "execution_count": 114
        },
        {
          "output_type": "display_data",
          "data": {
            "text/plain": [
              "<Figure size 432x288 with 2 Axes>"
            ],
            "image/png": "[encoded data removed]"
          },
          "metadata": {
            "needs_background": "light"
          }
        }
      ]
    },
    {
      "cell_type": "code",
      "source": [
        "classif_report(test_2, model_time_projection_2_classes)"
      ],
      "metadata": {
        "colab": {
          "base_uri": "https://localhost:8080/"
        },
        "outputId": "608344cf-f694-4265-feab-bed0ac6176f7",
        "id": "q58NQ0nGu-L3"
      },
      "execution_count": null,
      "outputs": [
        {
          "output_type": "stream",
          "name": "stdout",
          "text": [
            "1/1 [==============================] - 0s 102ms/step\n",
            "1/1 [==============================] - 0s 118ms/step\n",
            "1/1 [==============================] - 0s 91ms/step\n",
            "1/1 [==============================] - 0s 99ms/step\n",
            "1/1 [==============================] - 0s 91ms/step\n",
            "1/1 [==============================] - 0s 93ms/step\n",
            "1/1 [==============================] - 0s 100ms/step\n",
            "1/1 [==============================] - 0s 93ms/step\n",
            "1/1 [==============================] - 0s 93ms/step\n",
            "1/1 [==============================] - 0s 94ms/step\n",
            "1/1 [==============================] - 0s 90ms/step\n",
            "1/1 [==============================] - 0s 117ms/step\n",
            "1/1 [==============================] - 0s 92ms/step\n",
            "1/1 [==============================] - 0s 97ms/step\n",
            "1/1 [==============================] - 0s 102ms/step\n",
            "1/1 [==============================] - 0s 92ms/step\n",
            "1/1 [==============================] - 0s 100ms/step\n",
            "1/1 [==============================] - 0s 95ms/step\n",
            "1/1 [==============================] - 0s 97ms/step\n",
            "1/1 [==============================] - 0s 104ms/step\n",
            "1/1 [==============================] - 0s 105ms/step\n",
            "              precision    recall  f1-score   support\n",
            "\n",
            "           0       0.92      0.98      0.95       356\n",
            "           1       0.98      0.90      0.94       316\n",
            "\n",
            "    accuracy                           0.94       672\n",
            "   macro avg       0.95      0.94      0.94       672\n",
            "weighted avg       0.95      0.94      0.94       672\n",
            "\n"
          ]
        }
      ]
    },
    {
      "cell_type": "markdown",
      "source": [
        "## 2.4 Save the model"
      ],
      "metadata": {
        "id": "ukp3MEazu-L4"
      }
    },
    {
      "cell_type": "code",
      "source": [
        "model_time_projection_2_classes.save('../content/drive/MyDrive/long_project/saved_models/model_time_projection_2_classes')"
      ],
      "metadata": {
        "outputId": "ef6d0dd8-6723-4cb6-e470-0758756324a8",
        "colab": {
          "base_uri": "https://localhost:8080/"
        },
        "id": "5qKk0w20u-L6"
      },
      "execution_count": null,
      "outputs": [
        {
          "output_type": "stream",
          "name": "stderr",
          "text": [
            "WARNING:absl:Found untraced functions such as _jit_compiled_convolution_op, _jit_compiled_convolution_op, _jit_compiled_convolution_op while saving (showing 3 of 3). These functions will not be directly callable after loading.\n"
          ]
        }
      ]
    },
    {
      "cell_type": "markdown",
      "source": [
        "# ⏬ Part 3 : Classification 3 classes"
      ],
      "metadata": {
        "id": "r3H88gqF0rNX"
      }
    },
    {
      "cell_type": "markdown",
      "source": [
        "## 3.1 Preprocessing"
      ],
      "metadata": {
        "id": "EilzMQWmPPRJ"
      }
    },
    {
      "cell_type": "code",
      "source": [
        "data_dir_3 = \"../content/drive/MyDrive/long_project/supp_data\""
      ],
      "metadata": {
        "id": "Z0SJ41jdPPRL"
      },
      "execution_count": null,
      "outputs": []
    },
    {
      "cell_type": "code",
      "source": [
        "train_3, test_3, validation_3 = get_train_test_validation_split(data_dir_3, validation_split, seed, img_height, img_width, batch_size)"
      ],
      "metadata": {
        "colab": {
          "base_uri": "https://localhost:8080/"
        },
        "outputId": "88d83f12-a2f2-4c81-f138-7411da861e69",
        "id": "wQwIjRXPPPRM"
      },
      "execution_count": null,
      "outputs": [
        {
          "output_type": "stream",
          "name": "stdout",
          "text": [
            "Found 4528 files belonging to 3 classes.\n",
            "Using 3170 files for training.\n",
            "Found 4528 files belonging to 3 classes.\n",
            "Using 1358 files for validation.\n"
          ]
        }
      ]
    },
    {
      "cell_type": "code",
      "source": [
        "class_names_3= train_3.class_names\n",
        "print(class_names_3)"
      ],
      "metadata": {
        "colab": {
          "base_uri": "https://localhost:8080/"
        },
        "outputId": "16c20d1d-110e-4244-e217-5830594aefd5",
        "id": "BZSuppDaPPRO"
      },
      "execution_count": null,
      "outputs": [
        {
          "output_type": "stream",
          "name": "stdout",
          "text": [
            "['low_affinity_crop', 'medium_affinity_crop', 'specific_cells_crop']\n"
          ]
        }
      ]
    },
    {
      "cell_type": "code",
      "source": [
        "plot_train_images(train_3, class_names_3)"
      ],
      "metadata": {
        "colab": {
          "base_uri": "https://localhost:8080/"
        },
        "outputId": "06a256f8-2e0b-48f7-c588-97b82eff6d6d",
        "id": "g3SeJ6bXPPRP"
      },
      "execution_count": null,
      "outputs": [
        {
          "output_type": "display_data",
          "data": {
            "text/plain": [
              "<Figure size 720x720 with 9 Axes>"
            ],
            "image/png": "[encoded data removed]"
          },
          "metadata": {
            "needs_background": "light"
          }
        }
      ]
    },
    {
      "cell_type": "code",
      "source": [
        "normalized_ds_3, image_batch_3, labels_batch_3, first_image_3 = normalize_dataset(train_3)"
      ],
      "metadata": {
        "id": "2_O4wMrzPPRQ"
      },
      "execution_count": null,
      "outputs": []
    },
    {
      "cell_type": "code",
      "source": [
        "train_3, validation_3= cache(train_3, validation_3)"
      ],
      "metadata": {
        "id": "r62CeQPLPPRQ"
      },
      "execution_count": null,
      "outputs": []
    },
    {
      "cell_type": "markdown",
      "source": [
        "## 3.2. Build model"
      ],
      "metadata": {
        "id": "nOV6X4loK29J"
      }
    },
    {
      "cell_type": "code",
      "source": [
        "logdir='logs' "
      ],
      "metadata": {
        "id": "0IECqjGsA80q"
      },
      "execution_count": null,
      "outputs": []
    },
    {
      "cell_type": "code",
      "source": [
        "tensorboard_callback = tf.keras.callbacks.TensorBoard(log_dir=logdir) #log model training as training"
      ],
      "metadata": {
        "id": "Nj5XXh4DA_7c"
      },
      "execution_count": null,
      "outputs": []
    },
    {
      "cell_type": "code",
      "source": [
        "model_3classes = Sequential()  \n",
        "\n",
        "model_3classes.add(Conv2D(16, (3,3), 1, activation='relu', input_shape=(100,100,3))) \n",
        "#16 : number of filters; 3,3: filter size; 1:stride; relu\n",
        "model_3classes.add(MaxPooling2D())\n",
        "model_3classes.add(Conv2D(32, (3,3), 1, activation='relu'))\n",
        "model_3classes.add(MaxPooling2D())\n",
        "model_3classes.add(Dropout(0.2))\n",
        "model_3classes.add(Conv2D(32, (3,3), 1, activation='relu'))\n",
        "model_3classes.add(MaxPooling2D())\n",
        "model_3classes.add(Dropout(0.2))\n",
        "model_3classes.add(Conv2D(16, (3,3), 1, activation='relu'))\n",
        "model_3classes.add(Dropout(0.2))\n",
        "model_3classes.add(MaxPooling2D())\n",
        "model_3classes.add(Flatten())\n",
        "model_3classes.add(Dense(100, activation='relu'))\n",
        "model_3classes.add(Dense(3, activation='softmax'))\n",
        "\n",
        "model_3classes.compile('adam', loss='sparse_categorical_crossentropy', metrics=['accuracy'])"
      ],
      "metadata": {
        "id": "ppAl7a-JBFSz"
      },
      "execution_count": null,
      "outputs": []
    },
    {
      "cell_type": "code",
      "source": [
        "hist_3classes = model_3classes.fit(train_3, epochs=20, validation_data=validation_3, callbacks=[tensorboard_callback])"
      ],
      "metadata": {
        "id": "2_GHc3TmBe8O",
        "colab": {
          "base_uri": "https://localhost:8080/"
        },
        "outputId": "8ffea6ec-e900-427a-8134-9f4ba99f35bc"
      },
      "execution_count": null,
      "outputs": [
        {
          "output_type": "stream",
          "name": "stdout",
          "text": [
            "Epoch 1/20\n",
            "100/100 [==============================] - 127s 1s/step - loss: 2.6260 - accuracy: 0.3707 - val_loss: 1.0744 - val_accuracy: 0.3939\n",
            "Epoch 2/20\n",
            "100/100 [==============================] - 33s 327ms/step - loss: 1.1254 - accuracy: 0.4041 - val_loss: 1.0380 - val_accuracy: 0.4632\n",
            "Epoch 3/20\n",
            "100/100 [==============================] - 31s 303ms/step - loss: 1.0647 - accuracy: 0.4331 - val_loss: 1.0327 - val_accuracy: 0.4545\n",
            "Epoch 4/20\n",
            "100/100 [==============================] - 29s 294ms/step - loss: 1.0427 - accuracy: 0.4473 - val_loss: 1.0142 - val_accuracy: 0.4935\n",
            "Epoch 5/20\n",
            "100/100 [==============================] - 30s 296ms/step - loss: 1.0249 - accuracy: 0.4754 - val_loss: 0.9956 - val_accuracy: 0.5325\n",
            "Epoch 6/20\n",
            "100/100 [==============================] - 30s 295ms/step - loss: 1.0087 - accuracy: 0.4940 - val_loss: 0.9749 - val_accuracy: 0.5325\n",
            "Epoch 7/20\n",
            "100/100 [==============================] - 29s 294ms/step - loss: 0.9838 - accuracy: 0.5091 - val_loss: 0.9247 - val_accuracy: 0.5866\n",
            "Epoch 8/20\n",
            "100/100 [==============================] - 29s 295ms/step - loss: 0.9338 - accuracy: 0.5353 - val_loss: 0.8364 - val_accuracy: 0.6169\n",
            "Epoch 9/20\n",
            "100/100 [==============================] - 30s 295ms/step - loss: 0.8185 - accuracy: 0.6013 - val_loss: 0.7240 - val_accuracy: 0.6515\n",
            "Epoch 10/20\n",
            "100/100 [==============================] - 29s 295ms/step - loss: 0.7438 - accuracy: 0.6331 - val_loss: 0.7215 - val_accuracy: 0.6255\n",
            "Epoch 11/20\n",
            "100/100 [==============================] - 29s 295ms/step - loss: 0.6962 - accuracy: 0.6539 - val_loss: 0.6907 - val_accuracy: 0.6580\n",
            "Epoch 12/20\n",
            "100/100 [==============================] - 30s 295ms/step - loss: 0.6649 - accuracy: 0.6776 - val_loss: 0.6792 - val_accuracy: 0.6602\n",
            "Epoch 13/20\n",
            "100/100 [==============================] - 32s 316ms/step - loss: 0.6468 - accuracy: 0.6681 - val_loss: 0.6376 - val_accuracy: 0.6883\n",
            "Epoch 14/20\n",
            "100/100 [==============================] - 30s 296ms/step - loss: 0.6129 - accuracy: 0.6972 - val_loss: 0.6391 - val_accuracy: 0.6667\n",
            "Epoch 15/20\n",
            "100/100 [==============================] - 29s 293ms/step - loss: 0.5958 - accuracy: 0.7063 - val_loss: 0.5979 - val_accuracy: 0.7013\n",
            "Epoch 16/20\n",
            "100/100 [==============================] - 29s 295ms/step - loss: 0.5853 - accuracy: 0.7003 - val_loss: 0.6026 - val_accuracy: 0.6840\n",
            "Epoch 17/20\n",
            "100/100 [==============================] - 30s 295ms/step - loss: 0.5729 - accuracy: 0.7101 - val_loss: 0.5866 - val_accuracy: 0.7035\n",
            "Epoch 18/20\n",
            "100/100 [==============================] - 31s 315ms/step - loss: 0.5565 - accuracy: 0.7170 - val_loss: 0.5773 - val_accuracy: 0.6970\n",
            "Epoch 19/20\n",
            "100/100 [==============================] - 29s 294ms/step - loss: 0.5600 - accuracy: 0.7142 - val_loss: 0.5798 - val_accuracy: 0.7013\n",
            "Epoch 20/20\n",
            "100/100 [==============================] - 29s 293ms/step - loss: 0.5532 - accuracy: 0.7221 - val_loss: 0.5842 - val_accuracy: 0.6970\n"
          ]
        }
      ]
    },
    {
      "cell_type": "markdown",
      "source": [
        "## 3.3. Evaluate"
      ],
      "metadata": {
        "id": "6f_ArDKCSi12"
      }
    },
    {
      "cell_type": "markdown",
      "source": [
        "### 3.3.1 Plot performance"
      ],
      "metadata": {
        "id": "sjxUUYDNSi13"
      }
    },
    {
      "cell_type": "code",
      "source": [
        "loss_plot(hist_3classes)\n",
        "print(\"\")\n",
        "accuracy_plot(hist_3classes)"
      ],
      "metadata": {
        "colab": {
          "base_uri": "https://localhost:8080/",
          "height": 590
        },
        "outputId": "aa106070-3ce9-473e-e931-700ee2c3fa2e",
        "id": "oSAv5RpfSi15"
      },
      "execution_count": null,
      "outputs": [
        {
          "output_type": "display_data",
          "data": {
            "text/plain": [
              "<Figure size 432x288 with 1 Axes>"
            ],
            "image/png": "[encoded data removed]"
          },
          "metadata": {
            "needs_background": "light"
          }
        },
        {
          "output_type": "stream",
          "name": "stdout",
          "text": [
            "\n"
          ]
        },
        {
          "output_type": "display_data",
          "data": {
            "text/plain": [
              "<Figure size 432x288 with 1 Axes>"
            ],
            "image/png": "[encoded data removed]"
          },
          "metadata": {
            "needs_background": "light"
          }
        }
      ]
    },
    {
      "cell_type": "markdown",
      "source": [
        "### 3.3.2 Evaluate"
      ],
      "metadata": {
        "id": "4dMxI5ezSi17"
      }
    },
    {
      "cell_type": "code",
      "source": [
        "get_evaluation_model(test_3, model_3classes)"
      ],
      "metadata": {
        "colab": {
          "base_uri": "https://localhost:8080/",
          "height": 329
        },
        "outputId": "e6591256-b8a7-4b45-9836-b143718de80d",
        "id": "SfFkPI9aSi18"
      },
      "execution_count": null,
      "outputs": [
        {
          "output_type": "stream",
          "name": "stdout",
          "text": [
            "1/1 [==============================] - 0s 87ms/step\n"
          ]
        },
        {
          "output_type": "error",
          "ename": "ValueError",
          "evalue": "ignored",
          "traceback": [
            "\u001b[0;31m---------------------------------------------------------------------------\u001b[0m",
            "\u001b[0;31mValueError\u001b[0m                                Traceback (most recent call last)",
            "\u001b[0;32m<ipython-input-46-b7477b4cea12>\u001b[0m in \u001b[0;36m<module>\u001b[0;34m\u001b[0m\n\u001b[0;32m----> 1\u001b[0;31m \u001b[0mget_evaluation_model\u001b[0m\u001b[0;34m(\u001b[0m\u001b[0mtest_3\u001b[0m\u001b[0;34m,\u001b[0m \u001b[0mmodel_3classes\u001b[0m\u001b[0;34m)\u001b[0m\u001b[0;34m\u001b[0m\u001b[0;34m\u001b[0m\u001b[0m\n\u001b[0m",
            "\u001b[0;32m<ipython-input-9-1036efb29410>\u001b[0m in \u001b[0;36mget_evaluation_model\u001b[0;34m(test, model)\u001b[0m\n\u001b[1;32m     23\u001b[0m     \u001b[0mX\u001b[0m\u001b[0;34m,\u001b[0m \u001b[0my\u001b[0m \u001b[0;34m=\u001b[0m \u001b[0mbatch\u001b[0m\u001b[0;34m\u001b[0m\u001b[0;34m\u001b[0m\u001b[0m\n\u001b[1;32m     24\u001b[0m     \u001b[0myhat\u001b[0m \u001b[0;34m=\u001b[0m \u001b[0mmodel\u001b[0m\u001b[0;34m.\u001b[0m\u001b[0mpredict\u001b[0m\u001b[0;34m(\u001b[0m\u001b[0mX\u001b[0m\u001b[0;34m)\u001b[0m\u001b[0;34m\u001b[0m\u001b[0;34m\u001b[0m\u001b[0m\n\u001b[0;32m---> 25\u001b[0;31m     \u001b[0mpre\u001b[0m\u001b[0;34m.\u001b[0m\u001b[0mupdate_state\u001b[0m\u001b[0;34m(\u001b[0m\u001b[0my\u001b[0m\u001b[0;34m,\u001b[0m \u001b[0myhat\u001b[0m\u001b[0;34m)\u001b[0m\u001b[0;34m\u001b[0m\u001b[0;34m\u001b[0m\u001b[0m\n\u001b[0m\u001b[1;32m     26\u001b[0m     \u001b[0mre\u001b[0m\u001b[0;34m.\u001b[0m\u001b[0mupdate_state\u001b[0m\u001b[0;34m(\u001b[0m\u001b[0my\u001b[0m\u001b[0;34m,\u001b[0m \u001b[0myhat\u001b[0m\u001b[0;34m)\u001b[0m\u001b[0;34m\u001b[0m\u001b[0;34m\u001b[0m\u001b[0m\n\u001b[1;32m     27\u001b[0m     \u001b[0macc\u001b[0m\u001b[0;34m.\u001b[0m\u001b[0mupdate_state\u001b[0m\u001b[0;34m(\u001b[0m\u001b[0my\u001b[0m\u001b[0;34m,\u001b[0m \u001b[0myhat\u001b[0m\u001b[0;34m)\u001b[0m\u001b[0;34m\u001b[0m\u001b[0;34m\u001b[0m\u001b[0m\n",
            "\u001b[0;32m/usr/local/lib/python3.8/dist-packages/keras/utils/metrics_utils.py\u001b[0m in \u001b[0;36mdecorated\u001b[0;34m(metric_obj, *args, **kwargs)\u001b[0m\n\u001b[1;32m     68\u001b[0m \u001b[0;34m\u001b[0m\u001b[0m\n\u001b[1;32m     69\u001b[0m     \u001b[0;32mwith\u001b[0m \u001b[0mtf_utils\u001b[0m\u001b[0;34m.\u001b[0m\u001b[0mgraph_context_for_symbolic_tensors\u001b[0m\u001b[0;34m(\u001b[0m\u001b[0;34m*\u001b[0m\u001b[0margs\u001b[0m\u001b[0;34m,\u001b[0m \u001b[0;34m**\u001b[0m\u001b[0mkwargs\u001b[0m\u001b[0;34m)\u001b[0m\u001b[0;34m:\u001b[0m\u001b[0;34m\u001b[0m\u001b[0;34m\u001b[0m\u001b[0m\n\u001b[0;32m---> 70\u001b[0;31m       \u001b[0mupdate_op\u001b[0m \u001b[0;34m=\u001b[0m \u001b[0mupdate_state_fn\u001b[0m\u001b[0;34m(\u001b[0m\u001b[0;34m*\u001b[0m\u001b[0margs\u001b[0m\u001b[0;34m,\u001b[0m \u001b[0;34m**\u001b[0m\u001b[0mkwargs\u001b[0m\u001b[0;34m)\u001b[0m\u001b[0;34m\u001b[0m\u001b[0;34m\u001b[0m\u001b[0m\n\u001b[0m\u001b[1;32m     71\u001b[0m     \u001b[0;32mif\u001b[0m \u001b[0mupdate_op\u001b[0m \u001b[0;32mis\u001b[0m \u001b[0;32mnot\u001b[0m \u001b[0;32mNone\u001b[0m\u001b[0;34m:\u001b[0m  \u001b[0;31m# update_op will be None in eager execution.\u001b[0m\u001b[0;34m\u001b[0m\u001b[0;34m\u001b[0m\u001b[0m\n\u001b[1;32m     72\u001b[0m       \u001b[0mmetric_obj\u001b[0m\u001b[0;34m.\u001b[0m\u001b[0madd_update\u001b[0m\u001b[0;34m(\u001b[0m\u001b[0mupdate_op\u001b[0m\u001b[0;34m)\u001b[0m\u001b[0;34m\u001b[0m\u001b[0;34m\u001b[0m\u001b[0m\n",
            "\u001b[0;32m/usr/local/lib/python3.8/dist-packages/keras/metrics/base_metric.py\u001b[0m in \u001b[0;36mupdate_state_fn\u001b[0;34m(*args, **kwargs)\u001b[0m\n\u001b[1;32m    138\u001b[0m         ag_update_state = tf.__internal__.autograph.tf_convert(\n\u001b[1;32m    139\u001b[0m             obj_update_state, control_status)\n\u001b[0;32m--> 140\u001b[0;31m         \u001b[0;32mreturn\u001b[0m \u001b[0mag_update_state\u001b[0m\u001b[0;34m(\u001b[0m\u001b[0;34m*\u001b[0m\u001b[0margs\u001b[0m\u001b[0;34m,\u001b[0m \u001b[0;34m**\u001b[0m\u001b[0mkwargs\u001b[0m\u001b[0;34m)\u001b[0m\u001b[0;34m\u001b[0m\u001b[0;34m\u001b[0m\u001b[0m\n\u001b[0m\u001b[1;32m    141\u001b[0m     \u001b[0;32melse\u001b[0m\u001b[0;34m:\u001b[0m\u001b[0;34m\u001b[0m\u001b[0;34m\u001b[0m\u001b[0m\n\u001b[1;32m    142\u001b[0m       \u001b[0;32mif\u001b[0m \u001b[0misinstance\u001b[0m\u001b[0;34m(\u001b[0m\u001b[0mobj\u001b[0m\u001b[0;34m.\u001b[0m\u001b[0mupdate_state\u001b[0m\u001b[0;34m,\u001b[0m \u001b[0mtf\u001b[0m\u001b[0;34m.\u001b[0m\u001b[0m__internal__\u001b[0m\u001b[0;34m.\u001b[0m\u001b[0mfunction\u001b[0m\u001b[0;34m.\u001b[0m\u001b[0mFunction\u001b[0m\u001b[0;34m)\u001b[0m\u001b[0;34m:\u001b[0m\u001b[0;34m\u001b[0m\u001b[0;34m\u001b[0m\u001b[0m\n",
            "\u001b[0;32m/usr/local/lib/python3.8/dist-packages/tensorflow/python/autograph/impl/api.py\u001b[0m in \u001b[0;36mwrapper\u001b[0;34m(*args, **kwargs)\u001b[0m\n\u001b[1;32m    687\u001b[0m       \u001b[0;32mtry\u001b[0m\u001b[0;34m:\u001b[0m\u001b[0;34m\u001b[0m\u001b[0;34m\u001b[0m\u001b[0m\n\u001b[1;32m    688\u001b[0m         \u001b[0;32mwith\u001b[0m \u001b[0mconversion_ctx\u001b[0m\u001b[0;34m:\u001b[0m\u001b[0;34m\u001b[0m\u001b[0;34m\u001b[0m\u001b[0m\n\u001b[0;32m--> 689\u001b[0;31m           \u001b[0;32mreturn\u001b[0m \u001b[0mconverted_call\u001b[0m\u001b[0;34m(\u001b[0m\u001b[0mf\u001b[0m\u001b[0;34m,\u001b[0m \u001b[0margs\u001b[0m\u001b[0;34m,\u001b[0m \u001b[0mkwargs\u001b[0m\u001b[0;34m,\u001b[0m \u001b[0moptions\u001b[0m\u001b[0;34m=\u001b[0m\u001b[0moptions\u001b[0m\u001b[0;34m)\u001b[0m\u001b[0;34m\u001b[0m\u001b[0;34m\u001b[0m\u001b[0m\n\u001b[0m\u001b[1;32m    690\u001b[0m       \u001b[0;32mexcept\u001b[0m \u001b[0mException\u001b[0m \u001b[0;32mas\u001b[0m \u001b[0me\u001b[0m\u001b[0;34m:\u001b[0m  \u001b[0;31m# pylint:disable=broad-except\u001b[0m\u001b[0;34m\u001b[0m\u001b[0;34m\u001b[0m\u001b[0m\n\u001b[1;32m    691\u001b[0m         \u001b[0;32mif\u001b[0m \u001b[0mhasattr\u001b[0m\u001b[0;34m(\u001b[0m\u001b[0me\u001b[0m\u001b[0;34m,\u001b[0m \u001b[0;34m'ag_error_metadata'\u001b[0m\u001b[0;34m)\u001b[0m\u001b[0;34m:\u001b[0m\u001b[0;34m\u001b[0m\u001b[0;34m\u001b[0m\u001b[0m\n",
            "\u001b[0;32m/usr/local/lib/python3.8/dist-packages/tensorflow/python/autograph/impl/api.py\u001b[0m in \u001b[0;36mconverted_call\u001b[0;34m(f, args, kwargs, caller_fn_scope, options)\u001b[0m\n\u001b[1;32m    329\u001b[0m   \u001b[0;32mif\u001b[0m \u001b[0mconversion\u001b[0m\u001b[0;34m.\u001b[0m\u001b[0mis_in_allowlist_cache\u001b[0m\u001b[0;34m(\u001b[0m\u001b[0mf\u001b[0m\u001b[0;34m,\u001b[0m \u001b[0moptions\u001b[0m\u001b[0;34m)\u001b[0m\u001b[0;34m:\u001b[0m\u001b[0;34m\u001b[0m\u001b[0;34m\u001b[0m\u001b[0m\n\u001b[1;32m    330\u001b[0m     \u001b[0mlogging\u001b[0m\u001b[0;34m.\u001b[0m\u001b[0mlog\u001b[0m\u001b[0;34m(\u001b[0m\u001b[0;36m2\u001b[0m\u001b[0;34m,\u001b[0m \u001b[0;34m'Allowlisted %s: from cache'\u001b[0m\u001b[0;34m,\u001b[0m \u001b[0mf\u001b[0m\u001b[0;34m)\u001b[0m\u001b[0;34m\u001b[0m\u001b[0;34m\u001b[0m\u001b[0m\n\u001b[0;32m--> 331\u001b[0;31m     \u001b[0;32mreturn\u001b[0m \u001b[0m_call_unconverted\u001b[0m\u001b[0;34m(\u001b[0m\u001b[0mf\u001b[0m\u001b[0;34m,\u001b[0m \u001b[0margs\u001b[0m\u001b[0;34m,\u001b[0m \u001b[0mkwargs\u001b[0m\u001b[0;34m,\u001b[0m \u001b[0moptions\u001b[0m\u001b[0;34m,\u001b[0m \u001b[0;32mFalse\u001b[0m\u001b[0;34m)\u001b[0m\u001b[0;34m\u001b[0m\u001b[0;34m\u001b[0m\u001b[0m\n\u001b[0m\u001b[1;32m    332\u001b[0m \u001b[0;34m\u001b[0m\u001b[0m\n\u001b[1;32m    333\u001b[0m   \u001b[0;32mif\u001b[0m \u001b[0mag_ctx\u001b[0m\u001b[0;34m.\u001b[0m\u001b[0mcontrol_status_ctx\u001b[0m\u001b[0;34m(\u001b[0m\u001b[0;34m)\u001b[0m\u001b[0;34m.\u001b[0m\u001b[0mstatus\u001b[0m \u001b[0;34m==\u001b[0m \u001b[0mag_ctx\u001b[0m\u001b[0;34m.\u001b[0m\u001b[0mStatus\u001b[0m\u001b[0;34m.\u001b[0m\u001b[0mDISABLED\u001b[0m\u001b[0;34m:\u001b[0m\u001b[0;34m\u001b[0m\u001b[0;34m\u001b[0m\u001b[0m\n",
            "\u001b[0;32m/usr/local/lib/python3.8/dist-packages/tensorflow/python/autograph/impl/api.py\u001b[0m in \u001b[0;36m_call_unconverted\u001b[0;34m(f, args, kwargs, options, update_cache)\u001b[0m\n\u001b[1;32m    456\u001b[0m \u001b[0;34m\u001b[0m\u001b[0m\n\u001b[1;32m    457\u001b[0m   \u001b[0;32mif\u001b[0m \u001b[0mkwargs\u001b[0m \u001b[0;32mis\u001b[0m \u001b[0;32mnot\u001b[0m \u001b[0;32mNone\u001b[0m\u001b[0;34m:\u001b[0m\u001b[0;34m\u001b[0m\u001b[0;34m\u001b[0m\u001b[0m\n\u001b[0;32m--> 458\u001b[0;31m     \u001b[0;32mreturn\u001b[0m \u001b[0mf\u001b[0m\u001b[0;34m(\u001b[0m\u001b[0;34m*\u001b[0m\u001b[0margs\u001b[0m\u001b[0;34m,\u001b[0m \u001b[0;34m**\u001b[0m\u001b[0mkwargs\u001b[0m\u001b[0;34m)\u001b[0m\u001b[0;34m\u001b[0m\u001b[0;34m\u001b[0m\u001b[0m\n\u001b[0m\u001b[1;32m    459\u001b[0m   \u001b[0;32mreturn\u001b[0m \u001b[0mf\u001b[0m\u001b[0;34m(\u001b[0m\u001b[0;34m*\u001b[0m\u001b[0margs\u001b[0m\u001b[0;34m)\u001b[0m\u001b[0;34m\u001b[0m\u001b[0;34m\u001b[0m\u001b[0m\n\u001b[1;32m    460\u001b[0m \u001b[0;34m\u001b[0m\u001b[0m\n",
            "\u001b[0;32m/usr/local/lib/python3.8/dist-packages/keras/metrics/metrics.py\u001b[0m in \u001b[0;36mupdate_state\u001b[0;34m(self, y_true, y_pred, sample_weight)\u001b[0m\n\u001b[1;32m    816\u001b[0m       \u001b[0mUpdate\u001b[0m \u001b[0mop\u001b[0m\u001b[0;34m.\u001b[0m\u001b[0;34m\u001b[0m\u001b[0;34m\u001b[0m\u001b[0m\n\u001b[1;32m    817\u001b[0m     \"\"\"\n\u001b[0;32m--> 818\u001b[0;31m     return metrics_utils.update_confusion_matrix_variables(\n\u001b[0m\u001b[1;32m    819\u001b[0m         {\n\u001b[1;32m    820\u001b[0m             \u001b[0mmetrics_utils\u001b[0m\u001b[0;34m.\u001b[0m\u001b[0mConfusionMatrix\u001b[0m\u001b[0;34m.\u001b[0m\u001b[0mTRUE_POSITIVES\u001b[0m\u001b[0;34m:\u001b[0m \u001b[0mself\u001b[0m\u001b[0;34m.\u001b[0m\u001b[0mtrue_positives\u001b[0m\u001b[0;34m,\u001b[0m\u001b[0;34m\u001b[0m\u001b[0;34m\u001b[0m\u001b[0m\n",
            "\u001b[0;32m/usr/local/lib/python3.8/dist-packages/keras/utils/metrics_utils.py\u001b[0m in \u001b[0;36mupdate_confusion_matrix_variables\u001b[0;34m(variables_to_update, y_true, y_pred, thresholds, top_k, class_id, sample_weight, multi_label, label_weights, thresholds_distributed_evenly)\u001b[0m\n\u001b[1;32m    617\u001b[0m           losses_utils.squeeze_or_expand_dimensions(\n\u001b[1;32m    618\u001b[0m               y_pred, y_true, sample_weight=sample_weight))\n\u001b[0;32m--> 619\u001b[0;31m   \u001b[0my_pred\u001b[0m\u001b[0;34m.\u001b[0m\u001b[0mshape\u001b[0m\u001b[0;34m.\u001b[0m\u001b[0massert_is_compatible_with\u001b[0m\u001b[0;34m(\u001b[0m\u001b[0my_true\u001b[0m\u001b[0;34m.\u001b[0m\u001b[0mshape\u001b[0m\u001b[0;34m)\u001b[0m\u001b[0;34m\u001b[0m\u001b[0;34m\u001b[0m\u001b[0m\n\u001b[0m\u001b[1;32m    620\u001b[0m \u001b[0;34m\u001b[0m\u001b[0m\n\u001b[1;32m    621\u001b[0m   \u001b[0;32mif\u001b[0m \u001b[0mtop_k\u001b[0m \u001b[0;32mis\u001b[0m \u001b[0;32mnot\u001b[0m \u001b[0;32mNone\u001b[0m\u001b[0;34m:\u001b[0m\u001b[0;34m\u001b[0m\u001b[0;34m\u001b[0m\u001b[0m\n",
            "\u001b[0;32m/usr/local/lib/python3.8/dist-packages/tensorflow/python/framework/tensor_shape.py\u001b[0m in \u001b[0;36massert_is_compatible_with\u001b[0;34m(self, other)\u001b[0m\n\u001b[1;32m   1289\u001b[0m     \"\"\"\n\u001b[1;32m   1290\u001b[0m     \u001b[0;32mif\u001b[0m \u001b[0;32mnot\u001b[0m \u001b[0mself\u001b[0m\u001b[0;34m.\u001b[0m\u001b[0mis_compatible_with\u001b[0m\u001b[0;34m(\u001b[0m\u001b[0mother\u001b[0m\u001b[0;34m)\u001b[0m\u001b[0;34m:\u001b[0m\u001b[0;34m\u001b[0m\u001b[0;34m\u001b[0m\u001b[0m\n\u001b[0;32m-> 1291\u001b[0;31m       \u001b[0;32mraise\u001b[0m \u001b[0mValueError\u001b[0m\u001b[0;34m(\u001b[0m\u001b[0;34m\"Shapes %s and %s are incompatible\"\u001b[0m \u001b[0;34m%\u001b[0m \u001b[0;34m(\u001b[0m\u001b[0mself\u001b[0m\u001b[0;34m,\u001b[0m \u001b[0mother\u001b[0m\u001b[0;34m)\u001b[0m\u001b[0;34m)\u001b[0m\u001b[0;34m\u001b[0m\u001b[0;34m\u001b[0m\u001b[0m\n\u001b[0m\u001b[1;32m   1292\u001b[0m \u001b[0;34m\u001b[0m\u001b[0m\n\u001b[1;32m   1293\u001b[0m   \u001b[0;32mdef\u001b[0m \u001b[0mmost_specific_compatible_shape\u001b[0m\u001b[0;34m(\u001b[0m\u001b[0mself\u001b[0m\u001b[0;34m,\u001b[0m \u001b[0mother\u001b[0m\u001b[0;34m)\u001b[0m\u001b[0;34m:\u001b[0m\u001b[0;34m\u001b[0m\u001b[0;34m\u001b[0m\u001b[0m\n",
            "\u001b[0;31mValueError\u001b[0m: Shapes (32, 3) and (32,) are incompatible"
          ]
        }
      ]
    },
    {
      "cell_type": "code",
      "source": [
        "for batch in test.as_numpy_iterator(): \n",
        "    X, y = batch\n",
        "    yhat = model_3classes.evaluate(X, y)\n",
        "    print(f'Test loss: {yhat[0]} / Test accuracy: {yhat[1]}')\n",
        "    #pre.update_state(y, yhat)\n",
        "    #re.update_state(y, yhat)\n",
        "    #acc.update_state(y, yhat)"
      ],
      "metadata": {
        "id": "Lpu93ImiTyb-"
      },
      "execution_count": null,
      "outputs": []
    },
    {
      "cell_type": "markdown",
      "source": [
        "### 3.3.3 Confusion matrix"
      ],
      "metadata": {
        "id": "QZU5EzXTSi19"
      }
    },
    {
      "cell_type": "code",
      "source": [
        "confusion_matrix_3_classses(test_3, model_3classes)"
      ],
      "metadata": {
        "colab": {
          "base_uri": "https://localhost:8080/",
          "height": 782
        },
        "outputId": "410e3eab-88df-4f32-bbbf-98aaf95b0dcc",
        "id": "Fy18AP-jSi1-"
      },
      "execution_count": null,
      "outputs": [
        {
          "output_type": "stream",
          "name": "stdout",
          "text": [
            "1/1 [==============================] - 0s 349ms/step\n",
            "1/1 [==============================] - 0s 185ms/step\n",
            "1/1 [==============================] - 0s 189ms/step\n",
            "1/1 [==============================] - 0s 188ms/step\n",
            "1/1 [==============================] - 0s 192ms/step\n",
            "1/1 [==============================] - 0s 182ms/step\n",
            "1/1 [==============================] - 0s 212ms/step\n",
            "1/1 [==============================] - 0s 177ms/step\n",
            "1/1 [==============================] - 0s 162ms/step\n",
            "1/1 [==============================] - 0s 192ms/step\n",
            "1/1 [==============================] - 0s 137ms/step\n",
            "1/1 [==============================] - 0s 103ms/step\n",
            "1/1 [==============================] - 0s 98ms/step\n",
            "1/1 [==============================] - 0s 99ms/step\n",
            "1/1 [==============================] - 0s 100ms/step\n",
            "1/1 [==============================] - 0s 114ms/step\n",
            "1/1 [==============================] - 0s 105ms/step\n",
            "1/1 [==============================] - 0s 94ms/step\n",
            "1/1 [==============================] - 0s 99ms/step\n",
            "1/1 [==============================] - 0s 112ms/step\n",
            "1/1 [==============================] - 0s 158ms/step\n",
            "1/1 [==============================] - 0s 95ms/step\n",
            "1/1 [==============================] - 0s 92ms/step\n",
            "1/1 [==============================] - 0s 94ms/step\n",
            "1/1 [==============================] - 0s 97ms/step\n",
            "1/1 [==============================] - 0s 109ms/step\n",
            "1/1 [==============================] - 0s 92ms/step\n",
            "1/1 [==============================] - 0s 93ms/step\n"
          ]
        },
        {
          "output_type": "execute_result",
          "data": {
            "text/plain": [
              "<sklearn.metrics._plot.confusion_matrix.ConfusionMatrixDisplay at 0x7ff21dbed820>"
            ]
          },
          "metadata": {},
          "execution_count": 27
        },
        {
          "output_type": "display_data",
          "data": {
            "text/plain": [
              "<Figure size 432x288 with 2 Axes>"
            ],
            "image/png": "[encoded data removed]"
          },
          "metadata": {
            "needs_background": "light"
          }
        }
      ]
    },
    {
      "cell_type": "markdown",
      "source": [
        "## 3.5. Save the model"
      ],
      "metadata": {
        "id": "ocEzOoljJVcS"
      }
    },
    {
      "cell_type": "code",
      "source": [
        "model_3classes.save('/content/drive/MyDrive/long_project/saved_models/3_classes_model')"
      ],
      "metadata": {
        "colab": {
          "base_uri": "https://localhost:8080/"
        },
        "outputId": "a4f8988e-38a8-4205-8b8d-6fa72a2b76aa",
        "id": "LJSKxz7nJpsE"
      },
      "execution_count": null,
      "outputs": [
        {
          "output_type": "stream",
          "name": "stderr",
          "text": [
            "WARNING:absl:Found untraced functions such as _jit_compiled_convolution_op, _jit_compiled_convolution_op, _jit_compiled_convolution_op while saving (showing 3 of 3). These functions will not be directly callable after loading.\n"
          ]
        }
      ]
    },
    {
      "cell_type": "markdown",
      "source": [
        "# ⏬ Part 4 : Tests on cells from bone marrow film (tumor)"
      ],
      "metadata": {
        "id": "jB_6S8Vf1hKl"
      }
    },
    {
      "cell_type": "markdown",
      "source": [
        "## 4.1. Test tumor films on model 1"
      ],
      "metadata": {
        "id": "4L37EIYL4QD3"
      }
    },
    {
      "cell_type": "markdown",
      "source": [
        "Load the model"
      ],
      "metadata": {
        "id": "vjwGhgxyaPij"
      }
    },
    {
      "cell_type": "code",
      "source": [
        "shape_model = load_model('../content/drive/MyDrive/long_project/saved_models/shape_model')"
      ],
      "metadata": {
        "id": "zixCfRasI5Xi"
      },
      "execution_count": 80,
      "outputs": []
    },
    {
      "cell_type": "markdown",
      "source": [
        "### 4.1.1 Non-specific"
      ],
      "metadata": {
        "id": "CHaiwTfF4cAI"
      }
    },
    {
      "cell_type": "code",
      "source": [
        "non_spe_model_1 = '/content/drive/MyDrive/long_project/tumor_data/Tumor_non_specifique_PB2_crop'"
      ],
      "metadata": {
        "id": "O2ftuUlO4No9"
      },
      "execution_count": 104,
      "outputs": []
    },
    {
      "cell_type": "markdown",
      "source": [],
      "metadata": {
        "id": "cixcLKdTZwE1"
      }
    },
    {
      "cell_type": "code",
      "source": [
        "os.listdir(non_spe_model_1 )"
      ],
      "metadata": {
        "id": "19wCRSRf4No9"
      },
      "execution_count": null,
      "outputs": []
    },
    {
      "cell_type": "code",
      "source": [
        "ypred = []\n",
        "name_bad_prediction = []\n",
        "name_good_prediction = []\n",
        "for image in os.listdir(non_spe_model_1):\n",
        "  img = cv2.imread(f'/content/drive/MyDrive/long_project/tumor_data/Tumor_non_specifique_PB2_crop/{image}')\n",
        "  preds = shape_model.predict(np.expand_dims(img/255, 0))\n",
        "  ypred.append(preds.round())\n",
        "  if preds.round() == 1:\n",
        "    name_bad_prediction.append(image)\n",
        "  else:\n",
        "    name_good_prediction.append(image)\n"
      ],
      "metadata": {
        "id": "2E7MqEiO4No9"
      },
      "execution_count": null,
      "outputs": []
    },
    {
      "cell_type": "code",
      "source": [
        "ypred"
      ],
      "metadata": {
        "id": "ZHhdpoqlauYN"
      },
      "execution_count": null,
      "outputs": []
    },
    {
      "cell_type": "code",
      "source": [
        "len(name_good_prediction)"
      ],
      "metadata": {
        "colab": {
          "base_uri": "https://localhost:8080/"
        },
        "id": "mBnKfCQYbVrW",
        "outputId": "78323dcc-cf23-4205-e25d-52104213614b"
      },
      "execution_count": 108,
      "outputs": [
        {
          "output_type": "execute_result",
          "data": {
            "text/plain": [
              "405"
            ]
          },
          "metadata": {},
          "execution_count": 108
        }
      ]
    },
    {
      "cell_type": "code",
      "source": [
        "name_bad_prediction"
      ],
      "metadata": {
        "id": "YUgax9Sva3nH",
        "colab": {
          "base_uri": "https://localhost:8080/"
        },
        "outputId": "0ae3558c-eaeb-4354-efc1-4a80f5822c74"
      },
      "execution_count": 109,
      "outputs": [
        {
          "output_type": "execute_result",
          "data": {
            "text/plain": [
              "[]"
            ]
          },
          "metadata": {},
          "execution_count": 109
        }
      ]
    },
    {
      "cell_type": "code",
      "source": [
        "predicted_labels = tf.concat([item for item in ypred], axis = 0)"
      ],
      "metadata": {
        "id": "1J3J-XEFjMwe"
      },
      "execution_count": 110,
      "outputs": []
    },
    {
      "cell_type": "code",
      "source": [
        "len(predicted_labels)"
      ],
      "metadata": {
        "colab": {
          "base_uri": "https://localhost:8080/"
        },
        "id": "5u0VoPnSksAe",
        "outputId": "83741671-b35a-431c-bb9f-843f998db751"
      },
      "execution_count": 111,
      "outputs": [
        {
          "output_type": "execute_result",
          "data": {
            "text/plain": [
              "405"
            ]
          },
          "metadata": {},
          "execution_count": 111
        }
      ]
    },
    {
      "cell_type": "code",
      "source": [
        "correct_labels = np.full((405),0)\n",
        "len(correct_labels)"
      ],
      "metadata": {
        "colab": {
          "base_uri": "https://localhost:8080/"
        },
        "id": "4mN6SqqHktdj",
        "outputId": "cf2447cf-ca51-475d-8434-44d7cfc24f15"
      },
      "execution_count": 112,
      "outputs": [
        {
          "output_type": "execute_result",
          "data": {
            "text/plain": [
              "405"
            ]
          },
          "metadata": {},
          "execution_count": 112
        }
      ]
    },
    {
      "cell_type": "code",
      "source": [
        "ConfusionMatrixDisplay.from_predictions(correct_labels, predicted_labels)"
      ],
      "metadata": {
        "id": "ab7eNKWQk6F2"
      },
      "execution_count": null,
      "outputs": []
    },
    {
      "cell_type": "markdown",
      "source": [
        "### 4.1.2. Specific"
      ],
      "metadata": {
        "id": "38li88Fy400u"
      }
    },
    {
      "cell_type": "code",
      "source": [
        "spe_model_1 = '/content/drive/MyDrive/long_project/tumor_data/Tumor_Ag_specifique_PB2_crop'"
      ],
      "metadata": {
        "id": "sp4zDy71400u"
      },
      "execution_count": 94,
      "outputs": []
    },
    {
      "cell_type": "code",
      "source": [
        "os.listdir(spe_model_1)"
      ],
      "metadata": {
        "id": "G8z5pSDV400v"
      },
      "execution_count": null,
      "outputs": []
    },
    {
      "cell_type": "code",
      "source": [
        "ypred = []\n",
        "name_bad_prediction = []\n",
        "name_good_prediction = []\n",
        "for image in os.listdir(spe_model_1):\n",
        "  img = cv2.imread(f'/content/drive/MyDrive/long_project/tumor_data/Tumor_Ag_specifique_PB2_crop/{image}')\n",
        "  preds = shape_model.predict(np.expand_dims(img/255, 0))\n",
        "  ypred.append(preds.round())\n",
        "  if preds.round() == 0:\n",
        "    name_bad_prediction.append(image)\n",
        "  else:\n",
        "    name_good_prediction.append(image)"
      ],
      "metadata": {
        "id": "MC_OyFLV400v"
      },
      "execution_count": null,
      "outputs": []
    },
    {
      "cell_type": "code",
      "source": [
        "len(name_bad_prediction)"
      ],
      "metadata": {
        "colab": {
          "base_uri": "https://localhost:8080/"
        },
        "id": "nd26ZTQpVEsT",
        "outputId": "4ab95ded-a805-4fed-bac7-86eadd8a446a"
      },
      "execution_count": 97,
      "outputs": [
        {
          "output_type": "execute_result",
          "data": {
            "text/plain": [
              "968"
            ]
          },
          "metadata": {},
          "execution_count": 97
        }
      ]
    },
    {
      "cell_type": "code",
      "source": [
        "predicted_labels = tf.concat([item for item in ypred], axis = 0)"
      ],
      "metadata": {
        "id": "SAFDit-RmV-p"
      },
      "execution_count": 100,
      "outputs": []
    },
    {
      "cell_type": "code",
      "source": [
        "len(predicted_labels)"
      ],
      "metadata": {
        "colab": {
          "base_uri": "https://localhost:8080/"
        },
        "outputId": "2b158666-1dd1-431e-e804-193bef30696a",
        "id": "PJUnP89hmV-p"
      },
      "execution_count": 101,
      "outputs": [
        {
          "output_type": "execute_result",
          "data": {
            "text/plain": [
              "968"
            ]
          },
          "metadata": {},
          "execution_count": 101
        }
      ]
    },
    {
      "cell_type": "code",
      "source": [
        "correct_labels = np.full((968),1)\n",
        "len(correct_labels)"
      ],
      "metadata": {
        "colab": {
          "base_uri": "https://localhost:8080/"
        },
        "outputId": "0dfe7be1-ce80-4cf3-d6af-7e0ea84bb8ab",
        "id": "7BQkJOp4mV-q"
      },
      "execution_count": 102,
      "outputs": [
        {
          "output_type": "execute_result",
          "data": {
            "text/plain": [
              "968"
            ]
          },
          "metadata": {},
          "execution_count": 102
        }
      ]
    },
    {
      "cell_type": "code",
      "source": [
        "ConfusionMatrixDisplay.from_predictions(correct_labels, predicted_labels)"
      ],
      "metadata": {
        "id": "jO4D23h-mV-q"
      },
      "execution_count": null,
      "outputs": []
    },
    {
      "cell_type": "markdown",
      "source": [
        "## 4.1.3 Test with data augmentation"
      ],
      "metadata": {
        "id": "zRn-an5yO3eB"
      }
    },
    {
      "cell_type": "code",
      "source": [],
      "metadata": {
        "id": "6dnJQt5pPmPM"
      },
      "execution_count": null,
      "outputs": []
    },
    {
      "cell_type": "code",
      "source": [
        "non_spe_model_1 = '/content/drive/MyDrive/long_project/tumor_data/Tumor_non_specifique_PB2_crop'"
      ],
      "metadata": {
        "id": "BsfWYUamQAEq"
      },
      "execution_count": null,
      "outputs": []
    },
    {
      "cell_type": "code",
      "source": [
        "os.listdir(non_spe_model_1 )"
      ],
      "metadata": {
        "id": "i9yofkhCQAEq"
      },
      "execution_count": null,
      "outputs": []
    },
    {
      "cell_type": "code",
      "source": [
        "ypred = []\n",
        "for image in os.listdir(non_spe_model_1):\n",
        "  img = cv2.imread(f'/content/drive/MyDrive/long_project/tumor_data/Tumor_non_specifique_PB2_crop/{image}')\n",
        "  preds = model.predict(np.expand_dims(img/255, 0))\n",
        "  ypred.append(preds.round())\n",
        "  score = tf.nn.sigmoid(preds[0])\n",
        "  print(class_names[np.argmax(score)])"
      ],
      "metadata": {
        "id": "r27IjNl_QAEq"
      },
      "execution_count": null,
      "outputs": []
    },
    {
      "cell_type": "code",
      "source": [
        "score = tf.nn.sigmoid(preds[0])\n",
        "class_names[np.argmax(score)]"
      ],
      "metadata": {
        "colab": {
          "base_uri": "https://localhost:8080/",
          "height": 35
        },
        "id": "iUeckMSeQaiI",
        "outputId": "16454e82-3c84-4214-852f-85290eaba887"
      },
      "execution_count": null,
      "outputs": [
        {
          "output_type": "execute_result",
          "data": {
            "text/plain": [
              "'non_specific_cells_copy_paste'"
            ],
            "application/vnd.google.colaboratory.intrinsic+json": {
              "type": "string"
            }
          },
          "metadata": {},
          "execution_count": 91
        }
      ]
    },
    {
      "cell_type": "code",
      "source": [
        "predicted_labels = tf.concat([item for item in ypred], axis = 0)"
      ],
      "metadata": {
        "id": "8QUX6215QAEq"
      },
      "execution_count": null,
      "outputs": []
    },
    {
      "cell_type": "code",
      "source": [
        "len(predicted_labels)"
      ],
      "metadata": {
        "colab": {
          "base_uri": "https://localhost:8080/"
        },
        "outputId": "c84437de-47c0-41a6-c9aa-77436054af21",
        "id": "er7gOfGYQAEr"
      },
      "execution_count": null,
      "outputs": [
        {
          "output_type": "execute_result",
          "data": {
            "text/plain": [
              "405"
            ]
          },
          "metadata": {},
          "execution_count": 81
        }
      ]
    },
    {
      "cell_type": "code",
      "source": [
        "correct_labels = np.full((405),0)\n",
        "len(correct_labels)"
      ],
      "metadata": {
        "colab": {
          "base_uri": "https://localhost:8080/"
        },
        "outputId": "7d59af15-00da-40b7-c5b7-048de6800b20",
        "id": "cUnhYeS8QAEr"
      },
      "execution_count": null,
      "outputs": [
        {
          "output_type": "execute_result",
          "data": {
            "text/plain": [
              "405"
            ]
          },
          "metadata": {},
          "execution_count": 82
        }
      ]
    },
    {
      "cell_type": "code",
      "source": [
        "ConfusionMatrixDisplay.from_predictions(correct_labels, predicted_labels)"
      ],
      "metadata": {
        "colab": {
          "base_uri": "https://localhost:8080/",
          "height": 298
        },
        "outputId": "f2b5d5bf-85f3-4332-aa69-18c8f804f514",
        "id": "uaexBL1xQAEr"
      },
      "execution_count": null,
      "outputs": [
        {
          "output_type": "execute_result",
          "data": {
            "text/plain": [
              "<sklearn.metrics._plot.confusion_matrix.ConfusionMatrixDisplay at 0x7f528f84dcd0>"
            ]
          },
          "metadata": {},
          "execution_count": 83
        },
        {
          "output_type": "display_data",
          "data": {
            "text/plain": [
              "<Figure size 432x288 with 2 Axes>"
            ],
            "image/png": "[encoded data removed]"
          },
          "metadata": {
            "needs_background": "light"
          }
        }
      ]
    },
    {
      "cell_type": "markdown",
      "source": [
        "### 5.3.2 Specific"
      ],
      "metadata": {
        "id": "yk-V16DMPmj5"
      }
    },
    {
      "cell_type": "code",
      "source": [
        "spe_model_1 = '/content/drive/MyDrive/long_project/tumor_data/Tumor_Ag_specifique_PB2_crop'"
      ],
      "metadata": {
        "id": "aXmCRcxgO_Qu"
      },
      "execution_count": null,
      "outputs": []
    },
    {
      "cell_type": "code",
      "source": [
        "ypred = []\n",
        "for image in os.listdir(spe_model_1):\n",
        "  img = cv2.imread(f'/content/drive/MyDrive/long_project/tumor_data/Tumor_Ag_specifique_PB2_crop/{image}')\n",
        "  preds = model.predict(np.expand_dims(img/255, 0))\n",
        "  ypred.append(preds.round())\n",
        "  score = tf.nn.sigmoid(preds[0])\n",
        "  print(class_names[np.argmax(score)])\n"
      ],
      "metadata": {
        "id": "1PIQtPDFO_Qv"
      },
      "execution_count": null,
      "outputs": []
    },
    {
      "cell_type": "code",
      "source": [
        "predicted_labels = tf.concat([item for item in ypred], axis = 0)"
      ],
      "metadata": {
        "id": "iRs9-K3JO_Qv"
      },
      "execution_count": null,
      "outputs": []
    },
    {
      "cell_type": "code",
      "source": [
        "len(predicted_labels)"
      ],
      "metadata": {
        "colab": {
          "base_uri": "https://localhost:8080/"
        },
        "outputId": "2e67e6c6-331e-4c07-c4cb-c78c631a0405",
        "id": "2VL69iwhO_Qv"
      },
      "execution_count": null,
      "outputs": [
        {
          "output_type": "execute_result",
          "data": {
            "text/plain": [
              "968"
            ]
          },
          "metadata": {},
          "execution_count": 74
        }
      ]
    },
    {
      "cell_type": "code",
      "source": [
        "correct_labels = np.full((968),1)\n",
        "len(correct_labels)"
      ],
      "metadata": {
        "colab": {
          "base_uri": "https://localhost:8080/"
        },
        "outputId": "bab7564f-f92a-40ee-cc41-b29bc414de58",
        "id": "JYive8M4O_Qw"
      },
      "execution_count": null,
      "outputs": [
        {
          "output_type": "execute_result",
          "data": {
            "text/plain": [
              "968"
            ]
          },
          "metadata": {},
          "execution_count": 75
        }
      ]
    },
    {
      "cell_type": "code",
      "source": [
        "ConfusionMatrixDisplay.from_predictions(correct_labels, predicted_labels)"
      ],
      "metadata": {
        "colab": {
          "base_uri": "https://localhost:8080/",
          "height": 296
        },
        "outputId": "26271d7d-32c2-443e-dfe3-8f1e63a78ae8",
        "id": "LL4aqOWZO_Qw"
      },
      "execution_count": null,
      "outputs": [
        {
          "output_type": "execute_result",
          "data": {
            "text/plain": [
              "<sklearn.metrics._plot.confusion_matrix.ConfusionMatrixDisplay at 0x7f5290bde7f0>"
            ]
          },
          "metadata": {},
          "execution_count": 76
        },
        {
          "output_type": "display_data",
          "data": {
            "text/plain": [
              "<Figure size 432x288 with 2 Axes>"
            ],
            "image/png": "[encoded data removed]"
          },
          "metadata": {
            "needs_background": "light"
          }
        }
      ]
    },
    {
      "cell_type": "markdown",
      "source": [
        "## 4.2. Test on 3 classes"
      ],
      "metadata": {
        "id": "6bBe-kWrKHi-"
      }
    },
    {
      "cell_type": "markdown",
      "source": [
        "Load the model"
      ],
      "metadata": {
        "id": "Ot9UdpIdKNxA"
      }
    },
    {
      "cell_type": "code",
      "source": [
        "model_3classes_load = load_model('/content/drive/MyDrive/long_project/saved_models/3_classes_model')"
      ],
      "metadata": {
        "id": "p4LtpBa7JpsF"
      },
      "execution_count": null,
      "outputs": []
    },
    {
      "cell_type": "markdown",
      "source": [
        "### 5.2.1 Non-specific"
      ],
      "metadata": {
        "id": "Q2nmpMaEKVtS"
      }
    },
    {
      "cell_type": "code",
      "source": [
        "non_specific_3classes = '/content/drive/MyDrive/long_project/tumor_data/Tumor_non_specifique_PB2_crop'"
      ],
      "metadata": {
        "id": "SzXPxph5KVtS"
      },
      "execution_count": null,
      "outputs": []
    },
    {
      "cell_type": "code",
      "source": [
        "non_specific_3_classes_pred = []\n",
        "for image in os.listdir(non_specific_3classes):\n",
        "  img = cv2.imread(f'/content/drive/MyDrive/long_project/tumor_data/Tumor_non_specifique_PB2_crop/{image}')\n",
        "  preds = model_3classes_load.predict(np.expand_dims(img/255, 0))\n",
        "  predictions = non_specific_3_classes_pred.append(np.argmax(preds, axis = - 1))\n"
      ],
      "metadata": {
        "id": "GXU2IO25KVtT"
      },
      "execution_count": null,
      "outputs": []
    },
    {
      "cell_type": "code",
      "source": [
        "predicted_labels = tf.concat([item for item in non_specific_3_classes_pred], axis = 0)"
      ],
      "metadata": {
        "id": "WNc8yX5PQt7j"
      },
      "execution_count": null,
      "outputs": []
    },
    {
      "cell_type": "code",
      "source": [
        "len(predicted_labels)"
      ],
      "metadata": {
        "colab": {
          "base_uri": "https://localhost:8080/"
        },
        "id": "oKl67jVeRDd9",
        "outputId": "6f8dd9a0-f526-473f-b4b7-534412f6d1fd"
      },
      "execution_count": null,
      "outputs": [
        {
          "output_type": "execute_result",
          "data": {
            "text/plain": [
              "405"
            ]
          },
          "metadata": {},
          "execution_count": 70
        }
      ]
    },
    {
      "cell_type": "code",
      "source": [
        "correct_labels = np.full((405),0)\n",
        "len(correct_labels)"
      ],
      "metadata": {
        "colab": {
          "base_uri": "https://localhost:8080/"
        },
        "id": "ZSfrT6ToRSLR",
        "outputId": "1b752768-71d5-4df5-f012-69d40aa86d64"
      },
      "execution_count": null,
      "outputs": [
        {
          "output_type": "execute_result",
          "data": {
            "text/plain": [
              "405"
            ]
          },
          "metadata": {},
          "execution_count": 72
        }
      ]
    },
    {
      "cell_type": "code",
      "source": [
        "ConfusionMatrixDisplay.from_predictions(correct_labels, predicted_labels)"
      ],
      "metadata": {
        "colab": {
          "base_uri": "https://localhost:8080/",
          "height": 296
        },
        "id": "WkF5YMzARxlo",
        "outputId": "475f543d-d41f-4e45-85a1-599119c73eee"
      },
      "execution_count": null,
      "outputs": [
        {
          "output_type": "execute_result",
          "data": {
            "text/plain": [
              "<sklearn.metrics._plot.confusion_matrix.ConfusionMatrixDisplay at 0x7fc434b3c310>"
            ]
          },
          "metadata": {},
          "execution_count": 74
        },
        {
          "output_type": "display_data",
          "data": {
            "text/plain": [
              "<Figure size 432x288 with 2 Axes>"
            ],
            "image/png": "[encoded data removed]"
          },
          "metadata": {
            "needs_background": "light"
          }
        }
      ]
    },
    {
      "cell_type": "markdown",
      "source": [
        "### 4.2.2. Specific"
      ],
      "metadata": {
        "id": "ldWvRSnpKVtT"
      }
    },
    {
      "cell_type": "code",
      "source": [
        "specific_3classes = '/content/drive/MyDrive/long_project/tumor_data/Tumor_Ag_specifique_PB2_crop'"
      ],
      "metadata": {
        "id": "x0AvG8lzKVtT"
      },
      "execution_count": null,
      "outputs": []
    },
    {
      "cell_type": "code",
      "source": [
        "specific_3_classes_pred = []\n",
        "for image in os.listdir(specific_3classes):\n",
        "  img = cv2.imread(f'/content/drive/MyDrive/long_project/tumor_data/Tumor_Ag_specifique_PB2_crop/{image}')\n",
        "  preds = model_3classes_load.predict(np.expand_dims(img/255, 0))\n",
        "  predictions = specific_3_classes_pred.append(np.argmax(preds, axis = - 1))\n",
        "  \n"
      ],
      "metadata": {
        "id": "KgnAKQPfKVtU"
      },
      "execution_count": null,
      "outputs": []
    },
    {
      "cell_type": "code",
      "source": [
        "predicted_labels_specific = tf.concat([item for item in specific_3_classes_pred], axis = 0)"
      ],
      "metadata": {
        "id": "JKR5Gq6sSELt"
      },
      "execution_count": null,
      "outputs": []
    },
    {
      "cell_type": "code",
      "source": [
        "len(predicted_labels_specific)"
      ],
      "metadata": {
        "colab": {
          "base_uri": "https://localhost:8080/"
        },
        "outputId": "6d43b776-f15c-4d51-b38e-02ec587109cd",
        "id": "gHhSoe7KSELt"
      },
      "execution_count": null,
      "outputs": [
        {
          "output_type": "execute_result",
          "data": {
            "text/plain": [
              "968"
            ]
          },
          "metadata": {},
          "execution_count": 78
        }
      ]
    },
    {
      "cell_type": "code",
      "source": [
        "correct_labels_specific = np.full((968),2)\n",
        "len(correct_labels_specific)"
      ],
      "metadata": {
        "colab": {
          "base_uri": "https://localhost:8080/"
        },
        "outputId": "5a28c31f-7d54-4740-a8fa-cd05ee304924",
        "id": "juPgS2URSELu"
      },
      "execution_count": null,
      "outputs": [
        {
          "output_type": "execute_result",
          "data": {
            "text/plain": [
              "968"
            ]
          },
          "metadata": {},
          "execution_count": 79
        }
      ]
    },
    {
      "cell_type": "code",
      "source": [
        "ConfusionMatrixDisplay.from_predictions(correct_labels_specific, predicted_labels_specific)"
      ],
      "metadata": {
        "colab": {
          "base_uri": "https://localhost:8080/",
          "height": 296
        },
        "outputId": "36584f3e-05c6-4467-9ca7-d0e79c4b938e",
        "id": "cxd3YaJPSELu"
      },
      "execution_count": null,
      "outputs": [
        {
          "output_type": "execute_result",
          "data": {
            "text/plain": [
              "<sklearn.metrics._plot.confusion_matrix.ConfusionMatrixDisplay at 0x7fc43475eee0>"
            ]
          },
          "metadata": {},
          "execution_count": 80
        },
        {
          "output_type": "display_data",
          "data": {
            "text/plain": [
              "<Figure size 432x288 with 2 Axes>"
            ],
            "image/png": "[encoded data removed]"
          },
          "metadata": {
            "needs_background": "light"
          }
        }
      ]
    },
    {
      "cell_type": "markdown",
      "source": [
        "## 5.3. Test on Z projection binary classification"
      ],
      "metadata": {
        "id": "uUmZRJQLqqO8"
      }
    },
    {
      "cell_type": "markdown",
      "source": [
        "Load the model"
      ],
      "metadata": {
        "id": "h_Rd1i9yq5Xb"
      }
    },
    {
      "cell_type": "code",
      "source": [
        "z_projection_model1 = load_model('../content/drive/MyDrive/long_project/saved_models/model_time_projection_2_classes')"
      ],
      "metadata": {
        "id": "XtbtSI5uq5Xb"
      },
      "execution_count": null,
      "outputs": []
    },
    {
      "cell_type": "markdown",
      "source": [
        "### 4.1.1 Non-specific"
      ],
      "metadata": {
        "id": "8uY-Q4hPq5Xc"
      }
    },
    {
      "cell_type": "code",
      "source": [
        "non_spe_model_1_z_proj = '/content/drive/MyDrive/long_project/tumor_data_z_projection/Tumor_non_specifique_PB2_Z_projected_stack_crop'"
      ],
      "metadata": {
        "id": "o18a1SWTq5Xc"
      },
      "execution_count": null,
      "outputs": []
    },
    {
      "cell_type": "code",
      "source": [
        "ypred = []\n",
        "for image in os.listdir(non_spe_model_1_z_proj):\n",
        "  img = cv2.imread(f'/content/drive/MyDrive/long_project/tumor_data_z_projection/Tumor_non_specifique_PB2_Z_projected_stack_crop/{image}')\n",
        "  preds = z_projection_model1.predict(np.expand_dims(img/255, 0))\n",
        "  ypred.append(preds.round())\n"
      ],
      "metadata": {
        "id": "Zkzl17mPq5Xc"
      },
      "execution_count": null,
      "outputs": []
    },
    {
      "cell_type": "code",
      "source": [
        "predicted_labels = tf.concat([item for item in ypred], axis = 0)"
      ],
      "metadata": {
        "id": "XFafx8sDq5Xc"
      },
      "execution_count": null,
      "outputs": []
    },
    {
      "cell_type": "code",
      "source": [
        "len(predicted_labels)"
      ],
      "metadata": {
        "colab": {
          "base_uri": "https://localhost:8080/"
        },
        "outputId": "ba3e4fa8-a847-4a83-e33a-de1347ff155e",
        "id": "fYfs-9rzq5Xc"
      },
      "execution_count": null,
      "outputs": [
        {
          "output_type": "execute_result",
          "data": {
            "text/plain": [
              "461"
            ]
          },
          "metadata": {},
          "execution_count": 115
        }
      ]
    },
    {
      "cell_type": "code",
      "source": [
        "correct_labels = np.full((461),0)\n",
        "len(correct_labels)"
      ],
      "metadata": {
        "colab": {
          "base_uri": "https://localhost:8080/"
        },
        "outputId": "0024a069-a8b8-47dc-d978-b9f6957796a5",
        "id": "ryXV1uWwq5Xc"
      },
      "execution_count": null,
      "outputs": [
        {
          "output_type": "execute_result",
          "data": {
            "text/plain": [
              "461"
            ]
          },
          "metadata": {},
          "execution_count": 116
        }
      ]
    },
    {
      "cell_type": "code",
      "source": [
        "ConfusionMatrixDisplay.from_predictions(correct_labels, predicted_labels)"
      ],
      "metadata": {
        "colab": {
          "base_uri": "https://localhost:8080/",
          "height": 296
        },
        "outputId": "274cebc8-d259-4ccc-bdba-e2641bfb1ab7",
        "id": "ky_9VM8Iq5Xc"
      },
      "execution_count": null,
      "outputs": [
        {
          "output_type": "execute_result",
          "data": {
            "text/plain": [
              "<sklearn.metrics._plot.confusion_matrix.ConfusionMatrixDisplay at 0x7fc4392a15b0>"
            ]
          },
          "metadata": {},
          "execution_count": 117
        },
        {
          "output_type": "display_data",
          "data": {
            "text/plain": [
              "<Figure size 432x288 with 2 Axes>"
            ],
            "image/png": "[encoded data removed]"
          },
          "metadata": {
            "needs_background": "light"
          }
        }
      ]
    },
    {
      "cell_type": "markdown",
      "source": [
        "### 4.1.2. Specific"
      ],
      "metadata": {
        "id": "m5ktpUiWq5Xc"
      }
    },
    {
      "cell_type": "code",
      "source": [
        "spe_model_1_z_proj = '/content/drive/MyDrive/long_project/tumor_data_z_projection/Tumor_Ag_specifique_PB2_Z_projected_stack_crop'"
      ],
      "metadata": {
        "id": "3ZchGQFuq5Xc"
      },
      "execution_count": null,
      "outputs": []
    },
    {
      "cell_type": "code",
      "source": [
        "ypred = []\n",
        "for image in os.listdir(spe_model_1_z_proj):\n",
        "  img = cv2.imread(f'/content/drive/MyDrive/long_project/tumor_data_z_projection/Tumor_Ag_specifique_PB2_Z_projected_stack_crop/{image}')\n",
        "  preds = z_projection_model1.predict(np.expand_dims(img/255, 0))\n",
        "  ypred.append(preds.round())\n"
      ],
      "metadata": {
        "id": "wTsMyRQ1q5Xd"
      },
      "execution_count": null,
      "outputs": []
    },
    {
      "cell_type": "code",
      "source": [
        "predicted_labels = tf.concat([item for item in ypred], axis = 0)"
      ],
      "metadata": {
        "id": "NERgkq5hq5Xd"
      },
      "execution_count": null,
      "outputs": []
    },
    {
      "cell_type": "code",
      "source": [
        "len(predicted_labels)"
      ],
      "metadata": {
        "colab": {
          "base_uri": "https://localhost:8080/"
        },
        "outputId": "14e5aae7-434f-491f-a090-96c2b88d7bdd",
        "id": "nwhST9bSq5Xd"
      },
      "execution_count": null,
      "outputs": [
        {
          "output_type": "execute_result",
          "data": {
            "text/plain": [
              "1300"
            ]
          },
          "metadata": {},
          "execution_count": 122
        }
      ]
    },
    {
      "cell_type": "code",
      "source": [
        "correct_labels = np.full((1300),1)\n",
        "len(correct_labels)"
      ],
      "metadata": {
        "colab": {
          "base_uri": "https://localhost:8080/"
        },
        "outputId": "5bcfd2ca-aace-4498-c2b9-72a0e5965655",
        "id": "PBklfMkRq5Xd"
      },
      "execution_count": null,
      "outputs": [
        {
          "output_type": "execute_result",
          "data": {
            "text/plain": [
              "1300"
            ]
          },
          "metadata": {},
          "execution_count": 123
        }
      ]
    },
    {
      "cell_type": "code",
      "source": [
        "ConfusionMatrixDisplay.from_predictions(correct_labels, predicted_labels)"
      ],
      "metadata": {
        "colab": {
          "base_uri": "https://localhost:8080/",
          "height": 296
        },
        "outputId": "205ce05c-8ec8-4aed-988d-7dd3e1af4b98",
        "id": "ILk3QBmLq5Xd"
      },
      "execution_count": null,
      "outputs": [
        {
          "output_type": "execute_result",
          "data": {
            "text/plain": [
              "<sklearn.metrics._plot.confusion_matrix.ConfusionMatrixDisplay at 0x7fc433c417f0>"
            ]
          },
          "metadata": {},
          "execution_count": 124
        },
        {
          "output_type": "display_data",
          "data": {
            "text/plain": [
              "<Figure size 432x288 with 2 Axes>"
            ],
            "image/png": "[encoded data removed]"
          },
          "metadata": {
            "needs_background": "light"
          }
        }
      ]
    },
    {
      "cell_type": "markdown",
      "source": [
        "## 4.4. Save the model"
      ],
      "metadata": {
        "id": "PThazv1vLbOs"
      }
    },
    {
      "cell_type": "code",
      "source": [
        "model_mh_4.save('../content/drive/MyDrive/long_project/saved_models/model_mh_4')"
      ],
      "metadata": {
        "id": "jroUNm-yLjAr",
        "colab": {
          "base_uri": "https://localhost:8080/"
        },
        "outputId": "151a78b0-b5f3-41c3-816d-c9c816de2ed8"
      },
      "execution_count": 34,
      "outputs": [
        {
          "output_type": "stream",
          "name": "stderr",
          "text": [
            "WARNING:absl:Found untraced functions such as _jit_compiled_convolution_op, _jit_compiled_convolution_op, _jit_compiled_convolution_op while saving (showing 3 of 3). These functions will not be directly callable after loading.\n"
          ]
        }
      ]
    },
    {
      "cell_type": "markdown",
      "source": [
        "# ⏬ Part 5 : Binary classification (0=low affinity, 1=medium+high afffinity)"
      ],
      "metadata": {
        "id": "uINMF_URFXhu"
      }
    },
    {
      "cell_type": "markdown",
      "source": [
        "## 5.1 Preprocessing"
      ],
      "metadata": {
        "id": "NFo3SHt77iKd"
      }
    },
    {
      "cell_type": "code",
      "source": [
        "data_dir_4 = \"../content/drive/MyDrive/long_project/medium_high_merged\""
      ],
      "metadata": {
        "id": "qbttt_K57iKe"
      },
      "execution_count": 16,
      "outputs": []
    },
    {
      "cell_type": "code",
      "source": [
        "train_4, test_4, validation_4 = get_train_test_validation_split(data_dir_4, validation_split, seed, img_height, img_width, batch_size)"
      ],
      "metadata": {
        "colab": {
          "base_uri": "https://localhost:8080/"
        },
        "outputId": "6966d420-9a4d-4c00-fda2-702a0633bebe",
        "id": "5amGAQ4V7iKe"
      },
      "execution_count": 17,
      "outputs": [
        {
          "output_type": "stream",
          "name": "stdout",
          "text": [
            "Found 4528 files belonging to 2 classes.\n",
            "Using 3170 files for training.\n",
            "Found 4528 files belonging to 2 classes.\n",
            "Using 1358 files for validation.\n"
          ]
        }
      ]
    },
    {
      "cell_type": "code",
      "source": [
        "class_names_4= train_4.class_names\n",
        "print(class_names_4)"
      ],
      "metadata": {
        "colab": {
          "base_uri": "https://localhost:8080/"
        },
        "outputId": "b682c319-190d-4e9a-9491-e4cd6931d504",
        "id": "eze5kDVs7iKe"
      },
      "execution_count": 18,
      "outputs": [
        {
          "output_type": "stream",
          "name": "stdout",
          "text": [
            "['low_affinity_crop', 'medium_high']\n"
          ]
        }
      ]
    },
    {
      "cell_type": "code",
      "source": [
        "plot_train_images(train_4, class_names_4)"
      ],
      "metadata": {
        "colab": {
          "base_uri": "https://localhost:8080/",
          "height": 591
        },
        "outputId": "7fd8ecb4-a35a-4bd2-c963-c0496cfcb5f1",
        "id": "Lk3SKNoQ7iKe"
      },
      "execution_count": 19,
      "outputs": [
        {
          "output_type": "display_data",
          "data": {
            "text/plain": [
              "<Figure size 720x720 with 9 Axes>"
            ],
            "image/png": "[encoded data removed]"
          },
          "metadata": {
            "needs_background": "light"
          }
        }
      ]
    },
    {
      "cell_type": "code",
      "source": [
        "normalized_ds_4, image_batch_4, labels_batch_4, first_image_4 = normalize_dataset(train_4)"
      ],
      "metadata": {
        "id": "ePMKsDmP7iKe"
      },
      "execution_count": 20,
      "outputs": []
    },
    {
      "cell_type": "code",
      "source": [
        "train_4, validation_4 = cache(train_4, validation_4)"
      ],
      "metadata": {
        "id": "IsqePmxt7iKe"
      },
      "execution_count": 21,
      "outputs": []
    },
    {
      "cell_type": "markdown",
      "source": [
        "## 5.2 Build model"
      ],
      "metadata": {
        "id": "_lLtM2vsKLNK"
      }
    },
    {
      "cell_type": "code",
      "source": [
        "logdir='logs' "
      ],
      "metadata": {
        "id": "nV5I3CbMKKjy"
      },
      "execution_count": 22,
      "outputs": []
    },
    {
      "cell_type": "code",
      "source": [
        "tensorboard_callback = tf.keras.callbacks.TensorBoard(log_dir=logdir) #log model training as training"
      ],
      "metadata": {
        "id": "Qvit5tfCKKjz"
      },
      "execution_count": 23,
      "outputs": []
    },
    {
      "cell_type": "code",
      "source": [
        "num_classes = 2\n",
        "model_mh_4 = tf.keras.Sequential([\n",
        "  tf.keras.layers.Rescaling(1./255),\n",
        "  tf.keras.layers.Conv2D(16, 3, activation='relu'),\n",
        "  tf.keras.layers.MaxPooling2D(),\n",
        "  tf.keras.layers.Conv2D(32, 3, activation='relu'),\n",
        "  tf.keras.layers.MaxPooling2D(),\n",
        "  tf.keras.layers.Dropout(0.2),\n",
        "  tf.keras.layers.Conv2D(16, 3, activation='relu'),\n",
        "  tf.keras.layers.Dropout(0.2),\n",
        "  tf.keras.layers.MaxPooling2D(),\n",
        "  tf.keras.layers.Flatten(),\n",
        "  tf.keras.layers.Dense(100, activation='relu'),\n",
        "  tf.keras.layers.Dense(1, activation='sigmoid')\n",
        "])"
      ],
      "metadata": {
        "id": "akD531Rw8hdu"
      },
      "execution_count": 24,
      "outputs": []
    },
    {
      "cell_type": "code",
      "source": [
        "model_mh_4.compile('adam', loss=tf.losses.BinaryCrossentropy(), metrics=['accuracy'])"
      ],
      "metadata": {
        "id": "NI4WIntU8hdu"
      },
      "execution_count": 25,
      "outputs": []
    },
    {
      "cell_type": "code",
      "source": [
        "history_mh_4 = model_mh_4.fit(train_4, validation_data=validation_4,epochs=20, callbacks=[tensorboard_callback])"
      ],
      "metadata": {
        "colab": {
          "base_uri": "https://localhost:8080/"
        },
        "outputId": "8a505e15-2675-414e-ffc5-8cd281cc2dac",
        "id": "8OGqXWmQ8hdu"
      },
      "execution_count": 26,
      "outputs": [
        {
          "output_type": "stream",
          "name": "stdout",
          "text": [
            "Epoch 1/20\n",
            "100/100 [==============================] - 329s 3s/step - loss: 0.6194 - accuracy: 0.6801 - val_loss: 0.6234 - val_accuracy: 0.7100\n",
            "Epoch 2/20\n",
            "100/100 [==============================] - 17s 172ms/step - loss: 0.5900 - accuracy: 0.7060 - val_loss: 0.6167 - val_accuracy: 0.6840\n",
            "Epoch 3/20\n",
            "100/100 [==============================] - 17s 172ms/step - loss: 0.5789 - accuracy: 0.7139 - val_loss: 0.6048 - val_accuracy: 0.6861\n",
            "Epoch 4/20\n",
            "100/100 [==============================] - 17s 171ms/step - loss: 0.5693 - accuracy: 0.7183 - val_loss: 0.5980 - val_accuracy: 0.6948\n",
            "Epoch 5/20\n",
            "100/100 [==============================] - 17s 172ms/step - loss: 0.5657 - accuracy: 0.7249 - val_loss: 0.6006 - val_accuracy: 0.6797\n",
            "Epoch 6/20\n",
            "100/100 [==============================] - 16s 164ms/step - loss: 0.5544 - accuracy: 0.7309 - val_loss: 0.6008 - val_accuracy: 0.6732\n",
            "Epoch 7/20\n",
            "100/100 [==============================] - 17s 170ms/step - loss: 0.5471 - accuracy: 0.7353 - val_loss: 0.5998 - val_accuracy: 0.6818\n",
            "Epoch 8/20\n",
            "100/100 [==============================] - 16s 165ms/step - loss: 0.5335 - accuracy: 0.7479 - val_loss: 0.5980 - val_accuracy: 0.6818\n",
            "Epoch 9/20\n",
            "100/100 [==============================] - 19s 195ms/step - loss: 0.5202 - accuracy: 0.7558 - val_loss: 0.5769 - val_accuracy: 0.6991\n",
            "Epoch 10/20\n",
            "100/100 [==============================] - 21s 208ms/step - loss: 0.4989 - accuracy: 0.7562 - val_loss: 0.5801 - val_accuracy: 0.7121\n",
            "Epoch 11/20\n",
            "100/100 [==============================] - 19s 185ms/step - loss: 0.4848 - accuracy: 0.7662 - val_loss: 0.5712 - val_accuracy: 0.7056\n",
            "Epoch 12/20\n",
            "100/100 [==============================] - 22s 218ms/step - loss: 0.4631 - accuracy: 0.7804 - val_loss: 0.5495 - val_accuracy: 0.7165\n",
            "Epoch 13/20\n",
            "100/100 [==============================] - 26s 259ms/step - loss: 0.4483 - accuracy: 0.7893 - val_loss: 0.5367 - val_accuracy: 0.7121\n",
            "Epoch 14/20\n",
            "100/100 [==============================] - 19s 188ms/step - loss: 0.4272 - accuracy: 0.7937 - val_loss: 0.5632 - val_accuracy: 0.7078\n",
            "Epoch 15/20\n",
            "100/100 [==============================] - 19s 190ms/step - loss: 0.4171 - accuracy: 0.8013 - val_loss: 0.5567 - val_accuracy: 0.7143\n",
            "Epoch 16/20\n",
            "100/100 [==============================] - 19s 186ms/step - loss: 0.4155 - accuracy: 0.8035 - val_loss: 0.5186 - val_accuracy: 0.7316\n",
            "Epoch 17/20\n",
            "100/100 [==============================] - 17s 174ms/step - loss: 0.3776 - accuracy: 0.8268 - val_loss: 0.5562 - val_accuracy: 0.7078\n",
            "Epoch 18/20\n",
            "100/100 [==============================] - 17s 171ms/step - loss: 0.3782 - accuracy: 0.8240 - val_loss: 0.5593 - val_accuracy: 0.7078\n",
            "Epoch 19/20\n",
            "100/100 [==============================] - 22s 225ms/step - loss: 0.3602 - accuracy: 0.8243 - val_loss: 0.5379 - val_accuracy: 0.7078\n",
            "Epoch 20/20\n",
            "100/100 [==============================] - 21s 209ms/step - loss: 0.3521 - accuracy: 0.8375 - val_loss: 0.5450 - val_accuracy: 0.7121\n"
          ]
        }
      ]
    },
    {
      "cell_type": "markdown",
      "source": [
        "## 5.3 Evaluate model"
      ],
      "metadata": {
        "id": "Oh18q90R9eBI"
      }
    },
    {
      "cell_type": "markdown",
      "source": [
        "### 5.3.1 Plot performance"
      ],
      "metadata": {
        "id": "pBfjlZhN9eBJ"
      }
    },
    {
      "cell_type": "code",
      "source": [
        "loss_plot(history_mh_4)\n",
        "print(\"\")\n",
        "accuracy_plot(history_mh_4)"
      ],
      "metadata": {
        "id": "gGTp3faQ9eBJ",
        "colab": {
          "base_uri": "https://localhost:8080/",
          "height": 590
        },
        "outputId": "449a777f-1589-42e3-e412-7d0d12257a3f"
      },
      "execution_count": 29,
      "outputs": [
        {
          "output_type": "display_data",
          "data": {
            "text/plain": [
              "<Figure size 432x288 with 1 Axes>"
            ],
            "image/png": "[encoded data removed]"
          },
          "metadata": {
            "needs_background": "light"
          }
        },
        {
          "output_type": "stream",
          "name": "stdout",
          "text": [
            "\n"
          ]
        },
        {
          "output_type": "display_data",
          "data": {
            "text/plain": [
              "<Figure size 432x288 with 1 Axes>"
            ],
            "image/png": "[encoded data removed]"
          },
          "metadata": {
            "needs_background": "light"
          }
        }
      ]
    },
    {
      "cell_type": "markdown",
      "source": [
        "### 5.3.2 Evaluate"
      ],
      "metadata": {
        "id": "3bd422-Y9eBJ"
      }
    },
    {
      "cell_type": "code",
      "source": [
        "get_evaluation_model(test_4, model_mh_4)"
      ],
      "metadata": {
        "colab": {
          "base_uri": "https://localhost:8080/"
        },
        "outputId": "bc0011ba-16f4-4928-ff56-6bfd1ca4420a",
        "id": "PuKCujL49eBJ"
      },
      "execution_count": 31,
      "outputs": [
        {
          "output_type": "stream",
          "name": "stdout",
          "text": [
            "1/1 [==============================] - 0s 347ms/step\n",
            "1/1 [==============================] - 0s 87ms/step\n",
            "1/1 [==============================] - 0s 125ms/step\n",
            "1/1 [==============================] - 0s 136ms/step\n",
            "1/1 [==============================] - 0s 108ms/step\n",
            "1/1 [==============================] - 0s 105ms/step\n",
            "1/1 [==============================] - 0s 95ms/step\n",
            "1/1 [==============================] - 0s 57ms/step\n",
            "1/1 [==============================] - 0s 73ms/step\n",
            "1/1 [==============================] - 0s 56ms/step\n",
            "1/1 [==============================] - 0s 69ms/step\n",
            "1/1 [==============================] - 0s 61ms/step\n",
            "1/1 [==============================] - 0s 60ms/step\n",
            "1/1 [==============================] - 0s 62ms/step\n",
            "1/1 [==============================] - 0s 56ms/step\n",
            "1/1 [==============================] - 0s 60ms/step\n",
            "1/1 [==============================] - 0s 59ms/step\n",
            "1/1 [==============================] - 0s 66ms/step\n",
            "1/1 [==============================] - 0s 69ms/step\n",
            "1/1 [==============================] - 0s 59ms/step\n",
            "1/1 [==============================] - 0s 61ms/step\n",
            "1/1 [==============================] - 0s 67ms/step\n",
            "1/1 [==============================] - 0s 60ms/step\n",
            "1/1 [==============================] - 0s 75ms/step\n",
            "1/1 [==============================] - 0s 65ms/step\n",
            "1/1 [==============================] - 0s 64ms/step\n",
            "1/1 [==============================] - 0s 64ms/step\n",
            "1/1 [==============================] - 0s 62ms/step\n",
            "Precision: 0.7839850783348083, Recall: 0.7347294688224792, Accuracy: 0.7008928656578064\n"
          ]
        }
      ]
    },
    {
      "cell_type": "markdown",
      "source": [
        "### 5.3.3 Confusion matrix"
      ],
      "metadata": {
        "id": "Xlf0Jeg49eBJ"
      }
    },
    {
      "cell_type": "code",
      "source": [
        "confusion_matrix(test_4, model_mh_4)"
      ],
      "metadata": {
        "colab": {
          "base_uri": "https://localhost:8080/",
          "height": 783
        },
        "outputId": "43ebf26a-61c5-4a9f-e202-a67aa2e92810",
        "id": "vo-IJTES9eBJ"
      },
      "execution_count": 32,
      "outputs": [
        {
          "output_type": "stream",
          "name": "stdout",
          "text": [
            "1/1 [==============================] - 0s 61ms/step\n",
            "1/1 [==============================] - 0s 65ms/step\n",
            "1/1 [==============================] - 0s 68ms/step\n",
            "1/1 [==============================] - 0s 57ms/step\n",
            "1/1 [==============================] - 0s 60ms/step\n",
            "1/1 [==============================] - 0s 65ms/step\n",
            "1/1 [==============================] - 0s 62ms/step\n",
            "1/1 [==============================] - 0s 58ms/step\n",
            "1/1 [==============================] - 0s 60ms/step\n",
            "1/1 [==============================] - 0s 67ms/step\n",
            "1/1 [==============================] - 0s 59ms/step\n",
            "1/1 [==============================] - 0s 63ms/step\n",
            "1/1 [==============================] - 0s 61ms/step\n",
            "1/1 [==============================] - 0s 63ms/step\n",
            "1/1 [==============================] - 0s 59ms/step\n",
            "1/1 [==============================] - 0s 58ms/step\n",
            "1/1 [==============================] - 0s 60ms/step\n",
            "1/1 [==============================] - 0s 57ms/step\n",
            "1/1 [==============================] - 0s 72ms/step\n",
            "1/1 [==============================] - 0s 69ms/step\n",
            "1/1 [==============================] - 0s 60ms/step\n",
            "1/1 [==============================] - 0s 68ms/step\n",
            "1/1 [==============================] - 0s 61ms/step\n",
            "1/1 [==============================] - 0s 61ms/step\n",
            "1/1 [==============================] - 0s 60ms/step\n",
            "1/1 [==============================] - 0s 64ms/step\n",
            "1/1 [==============================] - 0s 60ms/step\n",
            "1/1 [==============================] - 0s 80ms/step\n"
          ]
        },
        {
          "output_type": "execute_result",
          "data": {
            "text/plain": [
              "<sklearn.metrics._plot.confusion_matrix.ConfusionMatrixDisplay at 0x7f8b679a7b20>"
            ]
          },
          "metadata": {},
          "execution_count": 32
        },
        {
          "output_type": "display_data",
          "data": {
            "text/plain": [
              "<Figure size 432x288 with 2 Axes>"
            ],
            "image/png": "[encoded data removed]"
          },
          "metadata": {
            "needs_background": "light"
          }
        }
      ]
    },
    {
      "cell_type": "markdown",
      "source": [
        "### 5.3.4. Classification Report"
      ],
      "metadata": {
        "id": "y8mk4-xU_fPY"
      }
    },
    {
      "cell_type": "code",
      "source": [
        "classif_report(test_4, model_mh_4)"
      ],
      "metadata": {
        "colab": {
          "base_uri": "https://localhost:8080/"
        },
        "id": "xrYn2auC_cJk",
        "outputId": "e4ceacde-8c05-4802-c930-7456a6caf059"
      },
      "execution_count": 33,
      "outputs": [
        {
          "output_type": "stream",
          "name": "stdout",
          "text": [
            "1/1 [==============================] - 0s 179ms/step\n",
            "1/1 [==============================] - 0s 126ms/step\n",
            "1/1 [==============================] - 0s 99ms/step\n",
            "1/1 [==============================] - 0s 91ms/step\n",
            "1/1 [==============================] - 0s 95ms/step\n",
            "1/1 [==============================] - 0s 93ms/step\n",
            "1/1 [==============================] - 0s 98ms/step\n",
            "1/1 [==============================] - 0s 64ms/step\n",
            "1/1 [==============================] - 0s 84ms/step\n",
            "1/1 [==============================] - 0s 64ms/step\n",
            "1/1 [==============================] - 0s 110ms/step\n",
            "1/1 [==============================] - 0s 97ms/step\n",
            "1/1 [==============================] - 0s 122ms/step\n",
            "1/1 [==============================] - 0s 98ms/step\n",
            "1/1 [==============================] - 0s 104ms/step\n",
            "1/1 [==============================] - 0s 93ms/step\n",
            "1/1 [==============================] - 0s 92ms/step\n",
            "1/1 [==============================] - 0s 93ms/step\n",
            "1/1 [==============================] - 0s 68ms/step\n",
            "1/1 [==============================] - 0s 58ms/step\n",
            "1/1 [==============================] - 0s 87ms/step\n",
            "1/1 [==============================] - 0s 59ms/step\n",
            "1/1 [==============================] - 0s 59ms/step\n",
            "1/1 [==============================] - 0s 60ms/step\n",
            "1/1 [==============================] - 0s 88ms/step\n",
            "1/1 [==============================] - 0s 61ms/step\n",
            "1/1 [==============================] - 0s 86ms/step\n",
            "1/1 [==============================] - 0s 62ms/step\n",
            "              precision    recall  f1-score   support\n",
            "\n",
            "           0       0.58      0.63      0.60       334\n",
            "           1       0.77      0.73      0.75       562\n",
            "\n",
            "    accuracy                           0.69       896\n",
            "   macro avg       0.67      0.68      0.68       896\n",
            "weighted avg       0.70      0.69      0.70       896\n",
            "\n"
          ]
        }
      ]
    },
    {
      "cell_type": "markdown",
      "source": [
        "# ⏬ Part 6. Binary classification with cells edges"
      ],
      "metadata": {
        "id": "LQvp1m_M6BVU"
      }
    },
    {
      "cell_type": "markdown",
      "source": [
        "## 6.1. Preprocessing"
      ],
      "metadata": {
        "id": "kZT0IAiE-73a"
      }
    },
    {
      "cell_type": "code",
      "source": [
        "data_dir_6 = \"/content/drive/MyDrive/long_project/shape_data_edges\""
      ],
      "metadata": {
        "id": "YwweuJ5793BO"
      },
      "execution_count": 35,
      "outputs": []
    },
    {
      "cell_type": "code",
      "source": [
        "train_6, test_6, validation_6 = get_train_test_validation_split(data_dir_6, validation_split, seed, img_height, img_width, batch_size)"
      ],
      "metadata": {
        "colab": {
          "base_uri": "https://localhost:8080/"
        },
        "outputId": "d885b33b-488c-404c-8bbe-72822b911010",
        "id": "23eUbWqg93BO"
      },
      "execution_count": 36,
      "outputs": [
        {
          "output_type": "stream",
          "name": "stdout",
          "text": [
            "Found 2733 files belonging to 2 classes.\n",
            "Using 1914 files for training.\n",
            "Found 2733 files belonging to 2 classes.\n",
            "Using 819 files for validation.\n"
          ]
        }
      ]
    },
    {
      "cell_type": "code",
      "source": [
        "class_names_6 = train_6.class_names\n",
        "print(class_names_6)"
      ],
      "metadata": {
        "colab": {
          "base_uri": "https://localhost:8080/"
        },
        "outputId": "a9d2d355-d58f-4730-9507-1eddc5caa946",
        "id": "4b5EVJa793BP"
      },
      "execution_count": 41,
      "outputs": [
        {
          "output_type": "stream",
          "name": "stdout",
          "text": [
            "['non_specific_cells_find_edges', 'specific_cells_find_edges']\n"
          ]
        }
      ]
    },
    {
      "cell_type": "code",
      "source": [
        "plot_train_images(train_6, class_names_6)"
      ],
      "metadata": {
        "colab": {
          "base_uri": "https://localhost:8080/",
          "height": 0
        },
        "outputId": "2cd2cf7a-2e71-4f4b-9a7c-f0d89805e141",
        "id": "sHXahy-193BP"
      },
      "execution_count": 42,
      "outputs": [
        {
          "output_type": "display_data",
          "data": {
            "text/plain": [
              "<Figure size 720x720 with 9 Axes>"
            ],
            "image/png": "[encoded data removed]"
          },
          "metadata": {
            "needs_background": "light"
          }
        }
      ]
    },
    {
      "cell_type": "code",
      "source": [
        "normalized_ds_6, image_batch_6, labels_batch_6, first_image_6 = normalize_dataset(train_6)"
      ],
      "metadata": {
        "id": "sxA-bIHI93BP"
      },
      "execution_count": 43,
      "outputs": []
    },
    {
      "cell_type": "code",
      "source": [
        "train_6, validation_6 = cache(train_6, validation_6)"
      ],
      "metadata": {
        "id": "DarfVXyI93BP"
      },
      "execution_count": 44,
      "outputs": []
    },
    {
      "cell_type": "markdown",
      "source": [
        "## 6.2 Model"
      ],
      "metadata": {
        "id": "BeTigwhj-WV3"
      }
    },
    {
      "cell_type": "code",
      "source": [
        "logdir='logs' "
      ],
      "metadata": {
        "id": "GFmb0LM5-cKr"
      },
      "execution_count": 45,
      "outputs": []
    },
    {
      "cell_type": "code",
      "source": [
        "tensorboard_callback = tf.keras.callbacks.TensorBoard(log_dir=logdir) #log model training as training"
      ],
      "metadata": {
        "id": "UaW5VG00-cKr"
      },
      "execution_count": 46,
      "outputs": []
    },
    {
      "cell_type": "code",
      "source": [
        "num_classes = 2\n",
        "model_edges_4 = tf.keras.Sequential([\n",
        "  tf.keras.layers.Rescaling(1./255),\n",
        "  tf.keras.layers.Conv2D(16, 3, activation='relu'),\n",
        "  tf.keras.layers.Dropout(0.2),\n",
        "  tf.keras.layers.MaxPooling2D(),\n",
        "  tf.keras.layers.Conv2D(32, 3, activation='relu'),\n",
        "  tf.keras.layers.Dropout(0.2),\n",
        "  tf.keras.layers.MaxPooling2D(),\n",
        "  tf.keras.layers.Conv2D(16, 3, activation='relu'),\n",
        "  tf.keras.layers.Dropout(0.2),\n",
        "  tf.keras.layers.MaxPooling2D(),\n",
        "  tf.keras.layers.Flatten(),\n",
        "  tf.keras.layers.Dense(100, activation='relu'),\n",
        "  tf.keras.layers.Dense(1, activation='sigmoid')\n",
        "])"
      ],
      "metadata": {
        "id": "GWHD-z4S-WV3"
      },
      "execution_count": 57,
      "outputs": []
    },
    {
      "cell_type": "code",
      "source": [
        "model_edges_4.compile('adam', loss=tf.losses.BinaryCrossentropy(), metrics=['accuracy'])"
      ],
      "metadata": {
        "id": "Hqe04gJs-WV3"
      },
      "execution_count": 58,
      "outputs": []
    },
    {
      "cell_type": "code",
      "source": [
        "history_edges = model_edges_4.fit(train_6, validation_data=validation_6,epochs=15, callbacks=[tensorboard_callback])"
      ],
      "metadata": {
        "colab": {
          "base_uri": "https://localhost:8080/"
        },
        "outputId": "b9f24487-b55f-4851-c4c0-084832b5819c",
        "id": "x0hk3NOk-WV3"
      },
      "execution_count": 59,
      "outputs": [
        {
          "output_type": "stream",
          "name": "stdout",
          "text": [
            "Epoch 1/15\n",
            "60/60 [==============================] - 14s 231ms/step - loss: 0.6593 - accuracy: 0.6014 - val_loss: 0.6303 - val_accuracy: 0.6727\n",
            "Epoch 2/15\n",
            "60/60 [==============================] - 15s 248ms/step - loss: 0.6213 - accuracy: 0.6672 - val_loss: 0.6052 - val_accuracy: 0.6618\n",
            "Epoch 3/15\n",
            "60/60 [==============================] - 15s 253ms/step - loss: 0.5947 - accuracy: 0.6818 - val_loss: 0.5913 - val_accuracy: 0.6909\n",
            "Epoch 4/15\n",
            "60/60 [==============================] - 14s 229ms/step - loss: 0.5766 - accuracy: 0.6933 - val_loss: 0.5819 - val_accuracy: 0.7018\n",
            "Epoch 5/15\n",
            "60/60 [==============================] - 16s 263ms/step - loss: 0.5411 - accuracy: 0.7252 - val_loss: 0.5581 - val_accuracy: 0.7200\n",
            "Epoch 6/15\n",
            "60/60 [==============================] - 13s 224ms/step - loss: 0.4837 - accuracy: 0.7717 - val_loss: 0.5247 - val_accuracy: 0.7418\n",
            "Epoch 7/15\n",
            "60/60 [==============================] - 14s 227ms/step - loss: 0.4209 - accuracy: 0.8103 - val_loss: 0.4550 - val_accuracy: 0.7927\n",
            "Epoch 8/15\n",
            "60/60 [==============================] - 13s 225ms/step - loss: 0.3534 - accuracy: 0.8448 - val_loss: 0.4075 - val_accuracy: 0.7964\n",
            "Epoch 9/15\n",
            "60/60 [==============================] - 13s 223ms/step - loss: 0.3230 - accuracy: 0.8542 - val_loss: 0.3599 - val_accuracy: 0.8655\n",
            "Epoch 10/15\n",
            "60/60 [==============================] - 13s 223ms/step - loss: 0.2847 - accuracy: 0.8814 - val_loss: 0.3410 - val_accuracy: 0.8582\n",
            "Epoch 11/15\n",
            "60/60 [==============================] - 14s 229ms/step - loss: 0.2537 - accuracy: 0.8934 - val_loss: 0.3376 - val_accuracy: 0.8764\n",
            "Epoch 12/15\n",
            "60/60 [==============================] - 14s 226ms/step - loss: 0.2525 - accuracy: 0.8955 - val_loss: 0.3236 - val_accuracy: 0.8800\n",
            "Epoch 13/15\n",
            "60/60 [==============================] - 14s 226ms/step - loss: 0.2242 - accuracy: 0.9023 - val_loss: 0.3279 - val_accuracy: 0.8836\n",
            "Epoch 14/15\n",
            "60/60 [==============================] - 13s 225ms/step - loss: 0.2167 - accuracy: 0.9143 - val_loss: 0.3375 - val_accuracy: 0.8836\n",
            "Epoch 15/15\n",
            "60/60 [==============================] - 14s 241ms/step - loss: 0.1768 - accuracy: 0.9368 - val_loss: 0.3385 - val_accuracy: 0.8655\n"
          ]
        }
      ]
    },
    {
      "cell_type": "markdown",
      "source": [
        "## 6.3 Evaluate model"
      ],
      "metadata": {
        "id": "HsrTALxh_8RE"
      }
    },
    {
      "cell_type": "markdown",
      "source": [
        "### 6.3.1 Plot performance"
      ],
      "metadata": {
        "id": "4WC0YCcd_8RF"
      }
    },
    {
      "cell_type": "code",
      "source": [
        "loss_plot(history_edges)\n",
        "print(\"\")\n",
        "accuracy_plot(history_edges)"
      ],
      "metadata": {
        "colab": {
          "base_uri": "https://localhost:8080/",
          "height": 590
        },
        "outputId": "97055b00-7ac6-4f36-caa1-da98cda72b33",
        "id": "P8osdB-z_8RF"
      },
      "execution_count": 60,
      "outputs": [
        {
          "output_type": "display_data",
          "data": {
            "text/plain": [
              "<Figure size 432x288 with 1 Axes>"
            ],
            "image/png": "[encoded data removed]"
          },
          "metadata": {
            "needs_background": "light"
          }
        },
        {
          "output_type": "stream",
          "name": "stdout",
          "text": [
            "\n"
          ]
        },
        {
          "output_type": "display_data",
          "data": {
            "text/plain": [
              "<Figure size 432x288 with 1 Axes>"
            ],
            "image/png": "[encoded data removed]"
          },
          "metadata": {
            "needs_background": "light"
          }
        }
      ]
    },
    {
      "cell_type": "markdown",
      "source": [
        "### 6.3.2 Evaluate"
      ],
      "metadata": {
        "id": "SKUDKu_D_8RF"
      }
    },
    {
      "cell_type": "code",
      "source": [
        "get_evaluation_model(test_6, model_edges_4)"
      ],
      "metadata": {
        "colab": {
          "base_uri": "https://localhost:8080/"
        },
        "outputId": "4a35d642-e158-4ba0-e36d-3166d5d41b69",
        "id": "44458j9x_8RF"
      },
      "execution_count": 61,
      "outputs": [
        {
          "output_type": "stream",
          "name": "stdout",
          "text": [
            "1/1 [==============================] - 1s 643ms/step\n",
            "1/1 [==============================] - 0s 126ms/step\n",
            "1/1 [==============================] - 0s 92ms/step\n",
            "1/1 [==============================] - 0s 100ms/step\n",
            "1/1 [==============================] - 0s 104ms/step\n",
            "1/1 [==============================] - 0s 124ms/step\n",
            "1/1 [==============================] - 0s 115ms/step\n",
            "1/1 [==============================] - 0s 74ms/step\n",
            "1/1 [==============================] - 0s 60ms/step\n",
            "1/1 [==============================] - 0s 63ms/step\n",
            "1/1 [==============================] - 0s 66ms/step\n",
            "1/1 [==============================] - 0s 63ms/step\n",
            "1/1 [==============================] - 0s 66ms/step\n",
            "1/1 [==============================] - 0s 66ms/step\n",
            "1/1 [==============================] - 0s 62ms/step\n",
            "1/1 [==============================] - 0s 65ms/step\n",
            "1/1 [==============================] - 0s 64ms/step\n",
            "Precision: 0.7931034564971924, Recall: 0.9504132270812988, Accuracy: 0.8676470518112183\n"
          ]
        }
      ]
    },
    {
      "cell_type": "markdown",
      "source": [
        "### 6.3.3 Confusion matrix"
      ],
      "metadata": {
        "id": "wpOpzI7W_8RF"
      }
    },
    {
      "cell_type": "code",
      "source": [
        "confusion_matrix(test_6, model_edges_4)"
      ],
      "metadata": {
        "colab": {
          "base_uri": "https://localhost:8080/",
          "height": 592
        },
        "outputId": "91de77be-c7bf-4dde-8373-d08f6488150a",
        "id": "NJJa-Ysr_8RF"
      },
      "execution_count": 62,
      "outputs": [
        {
          "output_type": "stream",
          "name": "stdout",
          "text": [
            "1/1 [==============================] - 0s 61ms/step\n",
            "1/1 [==============================] - 0s 68ms/step\n",
            "1/1 [==============================] - 0s 68ms/step\n",
            "1/1 [==============================] - 0s 65ms/step\n",
            "1/1 [==============================] - 0s 66ms/step\n",
            "1/1 [==============================] - 0s 66ms/step\n",
            "1/1 [==============================] - 0s 72ms/step\n",
            "1/1 [==============================] - 0s 79ms/step\n",
            "1/1 [==============================] - 0s 66ms/step\n",
            "1/1 [==============================] - 0s 65ms/step\n",
            "1/1 [==============================] - 0s 64ms/step\n",
            "1/1 [==============================] - 0s 73ms/step\n",
            "1/1 [==============================] - 0s 61ms/step\n",
            "1/1 [==============================] - 0s 66ms/step\n",
            "1/1 [==============================] - 0s 59ms/step\n",
            "1/1 [==============================] - 0s 69ms/step\n",
            "1/1 [==============================] - 0s 61ms/step\n"
          ]
        },
        {
          "output_type": "execute_result",
          "data": {
            "text/plain": [
              "<sklearn.metrics._plot.confusion_matrix.ConfusionMatrixDisplay at 0x7f8b61c38520>"
            ]
          },
          "metadata": {},
          "execution_count": 62
        },
        {
          "output_type": "display_data",
          "data": {
            "text/plain": [
              "<Figure size 432x288 with 2 Axes>"
            ],
            "image/png": "[encoded data removed]"
          },
          "metadata": {
            "needs_background": "light"
          }
        }
      ]
    },
    {
      "cell_type": "markdown",
      "source": [
        "### 6.3.4. Classification Report"
      ],
      "metadata": {
        "id": "-yMOWNfk_8RF"
      }
    },
    {
      "cell_type": "code",
      "source": [
        "classif_report(test_6, model_edges_4)"
      ],
      "metadata": {
        "colab": {
          "base_uri": "https://localhost:8080/"
        },
        "outputId": "4588a77b-4738-4717-894e-0d7a45df9aa5",
        "id": "SM62jKzo_8RF"
      },
      "execution_count": 63,
      "outputs": [
        {
          "output_type": "stream",
          "name": "stdout",
          "text": [
            "1/1 [==============================] - 0s 64ms/step\n",
            "1/1 [==============================] - 0s 64ms/step\n",
            "1/1 [==============================] - 0s 64ms/step\n",
            "1/1 [==============================] - 0s 69ms/step\n",
            "1/1 [==============================] - 0s 62ms/step\n",
            "1/1 [==============================] - 0s 59ms/step\n",
            "1/1 [==============================] - 0s 68ms/step\n",
            "1/1 [==============================] - 0s 76ms/step\n",
            "1/1 [==============================] - 0s 67ms/step\n",
            "1/1 [==============================] - 0s 59ms/step\n",
            "1/1 [==============================] - 0s 60ms/step\n",
            "1/1 [==============================] - 0s 63ms/step\n",
            "1/1 [==============================] - 0s 60ms/step\n",
            "1/1 [==============================] - 0s 64ms/step\n",
            "1/1 [==============================] - 0s 59ms/step\n",
            "1/1 [==============================] - 0s 75ms/step\n",
            "1/1 [==============================] - 0s 68ms/step\n",
            "              precision    recall  f1-score   support\n",
            "\n",
            "           0       0.96      0.80      0.87       309\n",
            "           1       0.79      0.95      0.86       235\n",
            "\n",
            "    accuracy                           0.87       544\n",
            "   macro avg       0.87      0.88      0.87       544\n",
            "weighted avg       0.88      0.87      0.87       544\n",
            "\n"
          ]
        }
      ]
    },
    {
      "cell_type": "markdown",
      "source": [
        "## 6.4. Save model"
      ],
      "metadata": {
        "id": "Cpk1zjiBhnev"
      }
    },
    {
      "cell_type": "code",
      "source": [
        "model_edges_4.save('../content/drive/MyDrive/long_project/saved_models/model_edges_4')"
      ],
      "metadata": {
        "colab": {
          "base_uri": "https://localhost:8080/"
        },
        "id": "89Nb3eGehprC",
        "outputId": "aa36629a-966d-46d4-aa5f-5af4eca8acef"
      },
      "execution_count": 64,
      "outputs": [
        {
          "output_type": "stream",
          "name": "stderr",
          "text": [
            "WARNING:absl:Found untraced functions such as _jit_compiled_convolution_op, _jit_compiled_convolution_op, _jit_compiled_convolution_op while saving (showing 3 of 3). These functions will not be directly callable after loading.\n"
          ]
        }
      ]
    },
    {
      "cell_type": "markdown",
      "source": [
        "## 6.5. Test on cells from bone marrow film (tumor)"
      ],
      "metadata": {
        "id": "jI4_mRw2hwfc"
      }
    },
    {
      "cell_type": "markdown",
      "source": [
        "### 6.5.1. Specific"
      ],
      "metadata": {
        "id": "l_5XWJu-koih"
      }
    },
    {
      "cell_type": "code",
      "source": [
        "spe_model_1 = '/content/drive/MyDrive/long_project/tumors_edges_data/Tumor_Ag_specifique_PB2_find_edges'"
      ],
      "metadata": {
        "id": "hrTdoZEvh7aL"
      },
      "execution_count": 65,
      "outputs": []
    },
    {
      "cell_type": "code",
      "source": [
        "ypred = []\n",
        "for image in os.listdir(spe_model_1):\n",
        "  img = cv2.imread(f'/content/drive/MyDrive/long_project/tumors_edges_data/Tumor_Ag_specifique_PB2_find_edges/{image}')\n",
        "  preds = model_edges_4.predict(np.expand_dims(img/255, 0))\n",
        "  ypred.append(preds.round())\n"
      ],
      "metadata": {
        "id": "5UpK14kKh7aM"
      },
      "execution_count": null,
      "outputs": []
    },
    {
      "cell_type": "code",
      "source": [],
      "metadata": {
        "colab": {
          "base_uri": "https://localhost:8080/"
        },
        "id": "C7xPHY0LE5XS",
        "outputId": "9bbe4f77-d7a2-48c1-d50c-5475edba2de7"
      },
      "execution_count": 78,
      "outputs": [
        {
          "output_type": "execute_result",
          "data": {
            "text/plain": [
              "array([[0.521811]], dtype=float32)"
            ]
          },
          "metadata": {},
          "execution_count": 78
        }
      ]
    },
    {
      "cell_type": "code",
      "source": [
        "predicted_labels = tf.concat([item for item in ypred], axis = 0)"
      ],
      "metadata": {
        "id": "0yQEHbD9h7aM"
      },
      "execution_count": 67,
      "outputs": []
    },
    {
      "cell_type": "code",
      "source": [
        "len(predicted_labels)"
      ],
      "metadata": {
        "colab": {
          "base_uri": "https://localhost:8080/"
        },
        "outputId": "f0ddbbde-2b2e-4dde-a287-c220da888727",
        "id": "qH0EcuZih7aM"
      },
      "execution_count": 68,
      "outputs": [
        {
          "output_type": "execute_result",
          "data": {
            "text/plain": [
              "946"
            ]
          },
          "metadata": {},
          "execution_count": 68
        }
      ]
    },
    {
      "cell_type": "code",
      "source": [
        "correct_labels = np.full((946),1)\n",
        "len(correct_labels)"
      ],
      "metadata": {
        "colab": {
          "base_uri": "https://localhost:8080/"
        },
        "outputId": "679b105a-e159-4bc8-babe-0b6d62761a1c",
        "id": "7SLhaXNTh7aN"
      },
      "execution_count": 69,
      "outputs": [
        {
          "output_type": "execute_result",
          "data": {
            "text/plain": [
              "946"
            ]
          },
          "metadata": {},
          "execution_count": 69
        }
      ]
    },
    {
      "cell_type": "code",
      "source": [
        "ConfusionMatrixDisplay.from_predictions(correct_labels, predicted_labels)"
      ],
      "metadata": {
        "id": "WKiULVQ9h7aN"
      },
      "execution_count": null,
      "outputs": []
    },
    {
      "cell_type": "markdown",
      "source": [
        "### 6.5.2. Non-specific"
      ],
      "metadata": {
        "id": "-grNxmo1hnch"
      }
    },
    {
      "cell_type": "code",
      "source": [
        "non_spe_model = '/content/drive/MyDrive/long_project/tumors_edges_data/Tumor_non_specifique_PB2_find_edges'"
      ],
      "metadata": {
        "id": "BUGpDyj1lAwO"
      },
      "execution_count": 71,
      "outputs": []
    },
    {
      "cell_type": "code",
      "source": [
        "ypred = []\n",
        "for image in os.listdir(non_spe_model):\n",
        "  img = cv2.imread(f'/content/drive/MyDrive/long_project/tumors_edges_data/Tumor_non_specifique_PB2_find_edges/{image}')\n",
        "  preds = model_edges_4.predict(np.expand_dims(img/255, 0))\n",
        "  ypred.append(preds.round())\n"
      ],
      "metadata": {
        "id": "E5CQ7ZYWlAwP"
      },
      "execution_count": null,
      "outputs": []
    },
    {
      "cell_type": "code",
      "source": [
        "predicted_labels = tf.concat([item for item in ypred], axis = 0)"
      ],
      "metadata": {
        "id": "ZuFPi1mJlAwP"
      },
      "execution_count": 73,
      "outputs": []
    },
    {
      "cell_type": "code",
      "source": [
        "len(predicted_labels)"
      ],
      "metadata": {
        "colab": {
          "base_uri": "https://localhost:8080/"
        },
        "outputId": "6fea69f4-e3d3-430a-e9b1-f9814e16c8b5",
        "id": "3zHSoo87lAwP"
      },
      "execution_count": 74,
      "outputs": [
        {
          "output_type": "execute_result",
          "data": {
            "text/plain": [
              "328"
            ]
          },
          "metadata": {},
          "execution_count": 74
        }
      ]
    },
    {
      "cell_type": "code",
      "source": [
        "correct_labels = np.full((328),0)\n",
        "len(correct_labels)"
      ],
      "metadata": {
        "colab": {
          "base_uri": "https://localhost:8080/"
        },
        "outputId": "ad501453-388a-4715-aa42-d45e346cb932",
        "id": "zCSOvY1tlAwP"
      },
      "execution_count": 75,
      "outputs": [
        {
          "output_type": "execute_result",
          "data": {
            "text/plain": [
              "328"
            ]
          },
          "metadata": {},
          "execution_count": 75
        }
      ]
    },
    {
      "cell_type": "code",
      "source": [
        "ConfusionMatrixDisplay.from_predictions(correct_labels, predicted_labels)"
      ],
      "metadata": {
        "id": "qdsNiJ-6lAwP"
      },
      "execution_count": null,
      "outputs": []
    }
  ]
}